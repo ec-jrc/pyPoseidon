{
 "cells": [
  {
   "cell_type": "markdown",
   "id": "aafbdc87",
   "metadata": {},
   "source": [
    "# Earth Simulations"
   ]
  },
  {
   "cell_type": "markdown",
   "id": "a37f5404",
   "metadata": {},
   "source": [
    "This Notebook presents a global storm surge run by pyposeidon. \n",
    "\n",
    "\n",
    "- Requires:\n",
    "\n",
    "    - The *./test/global/hgrid.gr3* file from the [GLOBAL](Global.ipynb) Notebook.\n",
    "\n",
    "    - The data folder. See [README](README.md) in this folder."
   ]
  },
  {
   "cell_type": "code",
   "execution_count": null,
   "id": "1de2592a",
   "metadata": {},
   "outputs": [],
   "source": [
    "#to use the full width of the browser window\n",
    "from IPython.display import display, HTML\n",
    "display(HTML(\"<style>.container { width:100% !important; }</style>\"))"
   ]
  },
  {
   "cell_type": "code",
   "execution_count": null,
   "id": "01dd047f",
   "metadata": {},
   "outputs": [],
   "source": [
    "# Not neccessarily needed. Just to check version. Must be >= 0.6\n",
    "import pyposeidon\n",
    "pyposeidon.__version__"
   ]
  },
  {
   "cell_type": "code",
   "execution_count": null,
   "id": "02c8bb97",
   "metadata": {},
   "outputs": [],
   "source": [
    "import pyposeidon.utils.mplot # initialize pyviz accessor"
   ]
  },
  {
   "cell_type": "code",
   "execution_count": null,
   "id": "abedb055",
   "metadata": {},
   "outputs": [],
   "source": [
    "import pyposeidon.model as pm"
   ]
  },
  {
   "cell_type": "code",
   "execution_count": null,
   "id": "4c5e541b",
   "metadata": {},
   "outputs": [],
   "source": [
    "#Create a folder to save the output\n",
    "import os\n",
    "if not os.path.exists('test'):\n",
    "            os.makedirs('test')"
   ]
  },
  {
   "cell_type": "code",
   "execution_count": null,
   "id": "c0962ae8",
   "metadata": {},
   "outputs": [],
   "source": [
    "import numpy\n",
    "cpath = numpy.__path__[0].split('/lib/')[0] # get the current kernel path\n",
    "\n",
    "os.environ['PATH'] += os.pathsep + cpath + '/bin' # add to PATH"
   ]
  },
  {
   "cell_type": "markdown",
   "id": "c3a19855",
   "metadata": {},
   "source": [
    "## Setting up and Executing a global model"
   ]
  },
  {
   "cell_type": "code",
   "execution_count": null,
   "id": "261e4a6f",
   "metadata": {},
   "outputs": [],
   "source": [
    "#define in a dictionary the properties of the model..\n",
    "model={'solver_name':'schism',\n",
    "     'mesh_file':'./test/global/hgrid.gr3',\n",
    "     'start_date':'2011-01-1 0:0:0',\n",
    "     'time_frame':'12H',\n",
    "     'meteo_source' : ['./data/era5.grib'], #path to meteo files\n",
    "     'dem_source' : './data/dem.nc', #path to dem file\n",
    "     'rpath':'./test/global/schism/', #location of calc folder\n",
    "     'monitor':True, # get time series for observation points\n",
    "     'parameters':{'dt':400, 'rnday':.5, 'hotout':0, 'ihot':0,'nspool':9, 'ihfskip':36, 'hotout_write':108 } # set param.in components\n",
    "    }"
   ]
  },
  {
   "cell_type": "code",
   "execution_count": null,
   "id": "44a9b6d9",
   "metadata": {},
   "outputs": [],
   "source": [
    "b = pm.set(**model)"
   ]
  },
  {
   "cell_type": "code",
   "execution_count": null,
   "id": "9dc6750d",
   "metadata": {},
   "outputs": [],
   "source": [
    "b.execute()"
   ]
  },
  {
   "cell_type": "code",
   "execution_count": null,
   "id": "84ff3ed1",
   "metadata": {},
   "outputs": [],
   "source": [
    "b.get_output_data() # integrate output"
   ]
  },
  {
   "cell_type": "code",
   "execution_count": null,
   "id": "95d5a941",
   "metadata": {},
   "outputs": [],
   "source": [
    "#save output\n",
    "b.data.Dataset.to_netcdf('./test/global/results.nc')"
   ]
  },
  {
   "cell_type": "markdown",
   "id": "ce78ab92",
   "metadata": {},
   "source": [
    "## Visualisations"
   ]
  },
  {
   "cell_type": "code",
   "execution_count": null,
   "id": "c3e65179",
   "metadata": {},
   "outputs": [],
   "source": [
    "# in 3D, the bathymetry \n",
    "b.data.Dataset.mplot.contourf(dim='3D')"
   ]
  },
  {
   "cell_type": "code",
   "execution_count": null,
   "id": "d9d0463c",
   "metadata": {},
   "outputs": [],
   "source": [
    "# in 3D, the sea level height \n",
    "b.data.Dataset.mplot.contourf(var = 'elev', it = -1, dim='3D') # change \"it\" for different time step "
   ]
  }
 ],
 "metadata": {
  "kernelspec": {
   "display_name": "pyPoseidon",
   "language": "python",
   "name": "pyposeidon"
  },
  "language_info": {
   "codemirror_mode": {
    "name": "ipython",
    "version": 3
   },
   "file_extension": ".py",
   "mimetype": "text/x-python",
   "name": "python",
   "nbconvert_exporter": "python",
   "pygments_lexer": "ipython3",
   "version": "3.8.12"
  }
 },
 "nbformat": 4,
 "nbformat_minor": 5
}
