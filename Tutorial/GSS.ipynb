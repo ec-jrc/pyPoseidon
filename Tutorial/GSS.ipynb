{
 "cells": [
  {
   "cell_type": "markdown",
   "id": "423e1a11",
   "metadata": {},
   "source": [
    "# Earth Simulations"
   ]
  },
  {
   "cell_type": "markdown",
   "id": "ddc84ea3",
   "metadata": {},
   "source": [
    "This Notebook presents a global storm surge run by pyposeidon. \n",
    "\n",
    "\n",
    "- Requires:\n",
    "\n",
    "    - The *./test/global/hgrid.gr3* file from the [GLOBAL](Global.ipynb) Notebook.\n",
    "\n",
    "    - The data folder. See [README](README.md) in this folder."
   ]
  },
  {
   "cell_type": "code",
   "execution_count": null,
   "id": "8a30e35c",
   "metadata": {},
   "outputs": [],
   "source": [
    "#to use the full width of the browser window\n",
    "from IPython.core.display import display, HTML\n",
    "display(HTML(\"<style>.container { width:100% !important; }</style>\"))"
   ]
  },
  {
   "cell_type": "code",
   "execution_count": null,
   "id": "36d4504f",
   "metadata": {},
   "outputs": [],
   "source": [
    "# Not neccessarily needed. Just to check version. Must be >= 0.6\n",
    "import pyposeidon\n",
    "pyposeidon.__version__"
   ]
  },
  {
   "cell_type": "code",
   "execution_count": null,
   "id": "480e8f1b",
   "metadata": {},
   "outputs": [],
   "source": [
    "import pyposeidon.utils.mplot # initialize pyviz accessor"
   ]
  },
  {
   "cell_type": "code",
   "execution_count": null,
   "id": "4fd13826",
   "metadata": {},
   "outputs": [],
   "source": [
    "import pyposeidon.model as pm"
   ]
  },
  {
   "cell_type": "code",
   "execution_count": null,
   "id": "70d066be",
   "metadata": {},
   "outputs": [],
   "source": [
    "import numpy\n",
    "cpath = numpy.__path__[0].split('/lib/')[0] # get the current kernel path\n",
    "\n",
    "os.environ['PATH'] += os.pathsep + cpath + '/bin' # add to PATH"
   ]
  },
  {
   "cell_type": "markdown",
   "id": "2f5001ca",
   "metadata": {},
   "source": [
    "## Setting up and Executing a global model"
   ]
  },
  {
   "cell_type": "code",
   "execution_count": null,
   "id": "8be05b0a",
   "metadata": {},
   "outputs": [],
   "source": [
    "#define in a dictionary the properties of the model..\n",
    "model={'solver':'schism',\n",
    "     'mesh_file':'./test/global/hgrid.gr3',\n",
    "     'start_date':'2011-01-1 0:0:0',\n",
    "     'time_frame':'12H',\n",
    "     'meteo_source' : ['./data/era5.grib'], #path to meteo files\n",
    "     'dem_source' : './data/dem.nc', #path to dem file\n",
    "     'rpath':'./test/global/schism/', #location of calc folder\n",
    "     'monitor':True, # get time series for observation points\n",
    "     'parameters':{'dt':400, 'rnday':.5, 'hotout':0, 'ihot':0,'nspool':9, 'ihfskip':36, 'hotout_write':108 } # set param.in components\n",
    "    }"
   ]
  },
  {
   "cell_type": "code",
   "execution_count": null,
   "id": "7f21b04a",
   "metadata": {},
   "outputs": [],
   "source": [
    "b = pm.set(**model)"
   ]
  },
  {
   "cell_type": "code",
   "execution_count": null,
   "id": "4f35c586",
   "metadata": {},
   "outputs": [],
   "source": [
    "b.execute()"
   ]
  },
  {
   "cell_type": "code",
   "execution_count": null,
   "id": "3f2b2881",
   "metadata": {},
   "outputs": [],
   "source": [
    "b.get_output_data() # integrate output"
   ]
  },
  {
   "cell_type": "code",
   "execution_count": null,
   "id": "0fb35471",
   "metadata": {},
   "outputs": [],
   "source": [
    "#save output\n",
    "b.data.Dataset.to_netcdf('./test/global/results.nc')"
   ]
  },
  {
   "cell_type": "markdown",
   "id": "6bbb240f",
   "metadata": {},
   "source": [
    "## Visualisations"
   ]
  },
  {
   "cell_type": "code",
   "execution_count": null,
   "id": "4b25d0f9",
   "metadata": {},
   "outputs": [],
   "source": [
    "# in 3D, the bathymetry \n",
    "b.data.Dataset.mplot.contourf(dim='3D')"
   ]
  },
  {
   "cell_type": "code",
   "execution_count": null,
   "id": "8720eee7",
   "metadata": {},
   "outputs": [],
   "source": [
    "# in 3D, the sea level height \n",
    "b.data.Dataset.mplot.contourf(var = 'elev', it = -1, dim='3D') # change \"it\" for different time step "
   ]
  }
 ],
 "metadata": {
  "kernelspec": {
   "display_name": "pyPoseidon",
   "language": "python",
   "name": "pyposeidon"
  },
  "language_info": {
   "codemirror_mode": {
    "name": "ipython",
    "version": 3
   },
   "file_extension": ".py",
   "mimetype": "text/x-python",
   "name": "python",
   "nbconvert_exporter": "python",
   "pygments_lexer": "ipython3",
   "version": "3.8.12"
  }
 },
 "nbformat": 4,
 "nbformat_minor": 5
}
