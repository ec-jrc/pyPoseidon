{
 "cells": [
  {
   "cell_type": "markdown",
   "id": "97a99050",
   "metadata": {
    "tags": []
   },
   "source": [
    "# Hotstart"
   ]
  },
  {
   "cell_type": "markdown",
   "id": "fe360950",
   "metadata": {},
   "source": [
    "Many times one needs to split a simulation in intermittend steps. This is true for long hindacts and forecasts. This Notebook outlines the hotstart process using the schism solver. \n",
    "\n",
    "\n",
    "- Requires:\n",
    "\n",
    "    - The data folder. See [README](README.md) in this folder."
   ]
  },
  {
   "cell_type": "code",
   "execution_count": null,
   "id": "f7ddeb58",
   "metadata": {},
   "outputs": [],
   "source": [
    "#to use the full width of the browser window\n",
    "from IPython.core.display import display, HTML\n",
    "display(HTML(\"<style>.container { width:100% !important; }</style>\"))"
   ]
  },
  {
   "cell_type": "code",
   "execution_count": null,
   "id": "bab00977",
   "metadata": {},
   "outputs": [],
   "source": [
    "# Not neccessarily needed. Just to check version. Must be >= 0.6\n",
    "import pyposeidon\n",
    "pyposeidon.__version__"
   ]
  },
  {
   "cell_type": "code",
   "execution_count": null,
   "id": "14ed34d9",
   "metadata": {},
   "outputs": [],
   "source": [
    "import pyposeidon.model as pm"
   ]
  },
  {
   "cell_type": "markdown",
   "id": "f185d681",
   "metadata": {},
   "source": [
    "### Graphics"
   ]
  },
  {
   "cell_type": "code",
   "execution_count": null,
   "id": "0937998d",
   "metadata": {},
   "outputs": [],
   "source": [
    "import pyposeidon.utils.pplot # initialize matplolib accessor"
   ]
  },
  {
   "cell_type": "code",
   "execution_count": null,
   "id": "a2f074ab",
   "metadata": {},
   "outputs": [],
   "source": [
    "#optional\n",
    "#pyposeidon.utils.pplot.__init__(dark_background=True) # set plt style for pplot graphics below"
   ]
  },
  {
   "cell_type": "code",
   "execution_count": null,
   "id": "0d3e7fb3",
   "metadata": {},
   "outputs": [],
   "source": [
    "import pyposeidon.utils.hplot # initialize pyviz accessor"
   ]
  },
  {
   "cell_type": "markdown",
   "id": "991b2432",
   "metadata": {},
   "source": [
    "- In order to have within the Notebook the executable binaries installed in the conda env of the Kernel we add the corresponding path to the env PATH. This is not needed when we are running from python."
   ]
  },
  {
   "cell_type": "code",
   "execution_count": null,
   "id": "01aa2653",
   "metadata": {},
   "outputs": [],
   "source": [
    "#Create a folder to save the output\n",
    "import os\n",
    "if not os.path.exists('test'):\n",
    "            os.makedirs('test')"
   ]
  },
  {
   "cell_type": "code",
   "execution_count": null,
   "id": "c0aa1bfa",
   "metadata": {},
   "outputs": [],
   "source": [
    "import numpy\n",
    "cpath = numpy.__path__[0].split('/lib/')[0] # get the current kernel path\n",
    "\n",
    "os.environ['PATH'] += os.pathsep + cpath + '/bin' # add to PATH"
   ]
  },
  {
   "cell_type": "code",
   "execution_count": null,
   "id": "553cb88d",
   "metadata": {},
   "outputs": [],
   "source": [
    "import geopandas as gp\n",
    "# use cartopy to get coastlines\n",
    "import cartopy.feature as cf"
   ]
  },
  {
   "cell_type": "markdown",
   "id": "2aeecb83",
   "metadata": {},
   "source": [
    "Without loss of generality we are using the natural earth's intermediate resolution dataset as coastlines"
   ]
  },
  {
   "cell_type": "code",
   "execution_count": null,
   "id": "81732a61",
   "metadata": {},
   "outputs": [],
   "source": [
    "cr='i'\n",
    "\n",
    "coast = cf.NaturalEarthFeature(\n",
    "    category='physical',\n",
    "    name='land',\n",
    "    scale='{}m'.format({'l':110, 'i':50, 'h':10}[cr]))"
   ]
  },
  {
   "cell_type": "code",
   "execution_count": null,
   "id": "9b018ff6",
   "metadata": {},
   "outputs": [],
   "source": [
    "import geopandas as gp\n",
    "ne_i = gp.GeoDataFrame(geometry = [x for x in coast.geometries()])"
   ]
  },
  {
   "cell_type": "markdown",
   "id": "6798ecff",
   "metadata": {},
   "source": [
    "## Setup"
   ]
  },
  {
   "cell_type": "markdown",
   "id": "7c663062",
   "metadata": {},
   "source": [
    "The minimum information required is an initial model and corresponding run. We set this one up. For more info see the [MODEL](./MODEL.ipynb) Notebook.\n"
   ]
  },
  {
   "cell_type": "code",
   "execution_count": null,
   "id": "21d001d6",
   "metadata": {},
   "outputs": [],
   "source": [
    "#define in a dictionary the properties of the model..\n",
    "model={'solver':'schism',\n",
    "     'geometry':{'lon_min' : -25,'lon_max' : -12.,'lat_min' : 56.,'lat_max' : 74.}, \n",
    "#     'manning':.12, #uniform manning value\n",
    "#     'windrot':0.00001, #uniform windrot value\n",
    "     'coastlines':ne_i,\n",
    "     'mesh_generator' : 'jigsaw', # set grid generator \n",
    "     'meteo_engine':'cfgrib',\n",
    "     'start_date':'2018-10-1 0:0:0',\n",
    "     'time_frame':'24H',\n",
    "     'meteo_source' : './data/uvp_2018100100.grib', #path to meteo files\n",
    "     'dem_source' : './data/dem.nc', #path to dem file\n",
    "     'rpath':'./test/hotstart/step1/', #location of calc folder\n",
    "#     'update':['all'], #set which component should be updated  (meteo,dem,model)\n",
    "#     'monitor':True, # get time series for observation points\n",
    "     'parameters':{'dt':400, 'rnday':1., 'nhot':1, 'ihot':0,'nspool':9, 'ihfskip':36, 'nhot_write':108 } # set param.in components\n",
    "    }"
   ]
  },
  {
   "cell_type": "markdown",
   "id": "932fe99c",
   "metadata": {},
   "source": [
    "* Note that the parameters arguments will override relevant settings"
   ]
  },
  {
   "cell_type": "markdown",
   "id": "35b029e8",
   "metadata": {},
   "source": [
    "## Initialize"
   ]
  },
  {
   "cell_type": "code",
   "execution_count": null,
   "id": "556d945e",
   "metadata": {},
   "outputs": [],
   "source": [
    "#initialize a model\n",
    "b = pm.set(**model)"
   ]
  },
  {
   "cell_type": "code",
   "execution_count": null,
   "id": "17f317be",
   "metadata": {},
   "outputs": [],
   "source": [
    "#Execute\n",
    "b.execute()"
   ]
  },
  {
   "cell_type": "markdown",
   "id": "bfa39ef1",
   "metadata": {},
   "source": [
    "*Note* that hotstart files have been created (check ./test/hotstart/step1/outputs)"
   ]
  },
  {
   "cell_type": "markdown",
   "id": "8fd45770",
   "metadata": {},
   "source": [
    "## Use the cast module to do a hotstart"
   ]
  },
  {
   "cell_type": "code",
   "execution_count": null,
   "id": "fc8fae47",
   "metadata": {},
   "outputs": [],
   "source": [
    "from pyposeidon.utils import cast\n",
    "import pandas as pd\n",
    "import datetime"
   ]
  },
  {
   "cell_type": "code",
   "execution_count": null,
   "id": "50cf3115",
   "metadata": {},
   "outputs": [],
   "source": [
    "# folder for the new run hotstarting from the step1 folder\n",
    "new_path = './test/hotstart/step2/'"
   ]
  },
  {
   "cell_type": "code",
   "execution_count": null,
   "id": "8bd6a0b6",
   "metadata": {},
   "outputs": [],
   "source": [
    "# new meteo file\n",
    "mf = './data/uvp_2018100112.grib'"
   ]
  },
  {
   "cell_type": "code",
   "execution_count": null,
   "id": "12f9450a",
   "metadata": {},
   "outputs": [],
   "source": [
    "rs = cast.set(solver='schism',\n",
    "        model=b, #reference model\n",
    "        ppath=b.rpath, #original path\n",
    "        cpath=new_path, #new path\n",
    "        meteo=mf, #new meteo\n",
    "        sdate=b.date + pd.DateOffset(hours=12) #new start time\n",
    "            ) \n",
    "\n"
   ]
  },
  {
   "cell_type": "code",
   "execution_count": null,
   "id": "cb500b8d",
   "metadata": {},
   "outputs": [],
   "source": [
    "rs.run(execute=True)"
   ]
  }
 ],
 "metadata": {
  "kernelspec": {
   "display_name": "pyPoseidon",
   "language": "python",
   "name": "pyposeidon"
  },
  "language_info": {
   "codemirror_mode": {
    "name": "ipython",
    "version": 3
   },
   "file_extension": ".py",
   "mimetype": "text/x-python",
   "name": "python",
   "nbconvert_exporter": "python",
   "pygments_lexer": "ipython3",
   "version": "3.8.12"
  }
 },
 "nbformat": 4,
 "nbformat_minor": 5
}
