{
 "cells": [
  {
   "cell_type": "markdown",
   "id": "34d5e244",
   "metadata": {
    "tags": []
   },
   "source": [
    "# Forecasting"
   ]
  },
  {
   "cell_type": "markdown",
   "id": "7921a6bc",
   "metadata": {},
   "source": [
    "In an operational setting we do hotstart for the nect forecast from the latest simulation.\n",
    "\n",
    "- Requires:\n",
    "\n",
    "    - The data folder. See [README](README.md) in this folder."
   ]
  },
  {
   "cell_type": "code",
   "execution_count": null,
   "id": "32a381c3",
   "metadata": {},
   "outputs": [],
   "source": [
    "#to use the full width of the browser window\n",
    "from IPython.core.display import display, HTML\n",
    "display(HTML(\"<style>.container { width:100% !important; }</style>\"))"
   ]
  },
  {
   "cell_type": "code",
   "execution_count": null,
   "id": "7ce8562f",
   "metadata": {},
   "outputs": [],
   "source": [
    "# Not neccessarily needed. Just to check version. Must be >= 0.6\n",
    "import pyposeidon\n",
    "pyposeidon.__version__"
   ]
  },
  {
   "cell_type": "code",
   "execution_count": null,
   "id": "084771bb",
   "metadata": {},
   "outputs": [],
   "source": [
    "import pyposeidon.model as pm"
   ]
  },
  {
   "cell_type": "markdown",
   "id": "c1944a07",
   "metadata": {},
   "source": [
    "### Graphics"
   ]
  },
  {
   "cell_type": "code",
   "execution_count": null,
   "id": "a2b3f9ac",
   "metadata": {},
   "outputs": [],
   "source": [
    "import pyposeidon.utils.pplot # initialize matplolib accessor"
   ]
  },
  {
   "cell_type": "code",
   "execution_count": null,
   "id": "ee19b4f3",
   "metadata": {},
   "outputs": [],
   "source": [
    "#optional\n",
    "#pyposeidon.utils.pplot.__init__(dark_background=True) # set plt style for pplot graphics below"
   ]
  },
  {
   "cell_type": "code",
   "execution_count": null,
   "id": "a56af936",
   "metadata": {},
   "outputs": [],
   "source": [
    "import pyposeidon.utils.hplot # initialize pyviz accessor"
   ]
  },
  {
   "cell_type": "markdown",
   "id": "d4f334b4",
   "metadata": {},
   "source": [
    "- In order to have within the Notebook the executable binaries installed in the conda env of the Kernel we add the corresponding path to the env PATH. This is not needed when we are running from python."
   ]
  },
  {
   "cell_type": "code",
   "execution_count": null,
   "id": "9b3762f1",
   "metadata": {},
   "outputs": [],
   "source": [
    "#Create a folder to save the output\n",
    "import os\n",
    "if not os.path.exists('test'):\n",
    "            os.makedirs('test')"
   ]
  },
  {
   "cell_type": "code",
   "execution_count": null,
   "id": "c7251edd",
   "metadata": {},
   "outputs": [],
   "source": [
    "import numpy\n",
    "cpath = numpy.__path__[0].split('/lib/')[0] # get the current kernel path\n",
    "\n",
    "os.environ['PATH'] += os.pathsep + cpath + '/bin' # add to PATH"
   ]
  },
  {
   "cell_type": "code",
   "execution_count": null,
   "id": "e482c80f",
   "metadata": {},
   "outputs": [],
   "source": [
    "# use cartopy to get coastlines\n",
    "import cartopy.feature as cf\n",
    "\n",
    "cr='i'\n",
    "\n",
    "coast = cf.NaturalEarthFeature(\n",
    "    category='physical',\n",
    "    name='land',\n",
    "    scale='{}m'.format({'l':110, 'i':50, 'h':10}[cr]))"
   ]
  },
  {
   "cell_type": "code",
   "execution_count": null,
   "id": "63167665",
   "metadata": {},
   "outputs": [],
   "source": [
    "import geopandas as gp\n",
    "ne_i = gp.GeoDataFrame(geometry = [x for x in coast.geometries()])"
   ]
  },
  {
   "cell_type": "markdown",
   "id": "c627069d",
   "metadata": {},
   "source": [
    "## Setup"
   ]
  },
  {
   "cell_type": "markdown",
   "id": "c8c79aad",
   "metadata": {},
   "source": [
    "The minimum information required is an initial model and corresponding run. We set this one up. For more info see the [MODEL](./MODEL.ipynb) Notebook.\n"
   ]
  },
  {
   "cell_type": "code",
   "execution_count": null,
   "id": "3f60111a",
   "metadata": {},
   "outputs": [],
   "source": [
    "#define in a dictionary the properties of the model..\n",
    "model={'solver':'schism',\n",
    "     'geometry':{'lon_min' : -25,'lon_max' : -12.,'lat_min' : 56.,'lat_max' : 74.}, \n",
    "#     'manning':.12, #uniform manning value\n",
    "#     'windrot':0.00001, #uniform windrot value\n",
    "     'coastlines':ne_i, # coastlines\n",
    "     'mesh_generator' : 'jigsaw', # set grid generator \n",
    "     'start_date':'2018-10-1 0:0:0',\n",
    "     'time_frame':'72H',\n",
    "     'meteo_source' : './data/uvp_2018100100.grib', #path to meteo files\n",
    "     'dem_source' : './data/dem.nc', #path to dem file\n",
    "     'rpath':'./test/forecast/20181001.00/', #location of calc folder\n",
    "#     'update':['all'], #set which component should be updated  (meteo,dem,model)\n",
    "     'monitor':True, # get time series for observation points\n",
    "     'parameters':{'dt':400, 'rnday':3., 'nhot':1, 'ihot':0,'nspool':9, 'ihfskip':36, 'nhot_write':108 } # set param.in components\n",
    "    }"
   ]
  },
  {
   "cell_type": "markdown",
   "id": "0c0f8d61",
   "metadata": {},
   "source": [
    "* Note that the parameters arguments will override relevant settings"
   ]
  },
  {
   "cell_type": "markdown",
   "id": "5bd7f7c2",
   "metadata": {},
   "source": [
    "## Initialize"
   ]
  },
  {
   "cell_type": "code",
   "execution_count": null,
   "id": "19cb04b2",
   "metadata": {},
   "outputs": [],
   "source": [
    "#initialize a model\n",
    "b = pm.set(**model)"
   ]
  },
  {
   "cell_type": "code",
   "execution_count": null,
   "id": "d6dc0d16",
   "metadata": {},
   "outputs": [],
   "source": [
    "#Execute\n",
    "b.execute()"
   ]
  },
  {
   "cell_type": "markdown",
   "id": "940fd539",
   "metadata": {},
   "source": [
    "## Setup a (re)forecast\n",
    "\n",
    "Let's assume we have a forecasting cycle where new meteo forcings become available every 12H.\n",
    "\n",
    "We setup a forecast process as"
   ]
  },
  {
   "cell_type": "code",
   "execution_count": null,
   "id": "58f449a9",
   "metadata": {},
   "outputs": [],
   "source": [
    "import pandas as pd"
   ]
  },
  {
   "cell_type": "code",
   "execution_count": null,
   "id": "ff230dcf",
   "metadata": {},
   "outputs": [],
   "source": [
    "# creating a time sequence of the runs\n",
    "start_date = pd.to_datetime(\"2018-10-1 0:0:0\")\n",
    "end_date = pd.to_datetime(\"2018-10-2 12:0:0\")\n",
    "date_list = pd.date_range(start_date, end_date, freq=\"12H\")\n",
    "date_list"
   ]
  },
  {
   "cell_type": "code",
   "execution_count": null,
   "id": "018091b8",
   "metadata": {},
   "outputs": [],
   "source": [
    "# creating a sequence of folder to store the runs. In this case we name them after the date attribute.\n",
    "# NOTE that the first folder is the fisrt run already perfomed!!\n",
    "rpaths = ['./test/forecast/' + x.strftime(\"%Y%m%d.%H\") + \"/\" for x in date_list]\n",
    "rpaths"
   ]
  },
  {
   "cell_type": "code",
   "execution_count": null,
   "id": "fab5e6fe",
   "metadata": {},
   "outputs": [],
   "source": [
    "# creating a sequence of folder from which we read the meteo.\n",
    "mfiles = ['./data/' + x.strftime('uvp_%Y%m%d%H.grib') for x in date_list]\n",
    "mfiles"
   ]
  },
  {
   "cell_type": "markdown",
   "id": "1d2b2e88",
   "metadata": {},
   "source": [
    "So now we can execute the forecast sequencially as"
   ]
  },
  {
   "cell_type": "code",
   "execution_count": null,
   "id": "109d4344",
   "metadata": {},
   "outputs": [],
   "source": [
    "from pyposeidon.utils import cast"
   ]
  },
  {
   "cell_type": "code",
   "execution_count": null,
   "id": "b402e514",
   "metadata": {},
   "outputs": [],
   "source": [
    "for l in range(len(rpaths) - 1):\n",
    "\n",
    "    fc = cast.set(solver='schism',\n",
    "            model=b,\n",
    "            ppath=rpaths[l],\n",
    "            cpath=rpaths[l + 1],\n",
    "            meteo=mfiles[l + 1],\n",
    "            sdate=date_list[l + 1],\n",
    "                ) \n",
    "    fc.run(execute=True)"
   ]
  }
 ],
 "metadata": {
  "kernelspec": {
   "display_name": "pyPoseidon",
   "language": "python",
   "name": "pyposeidon"
  },
  "language_info": {
   "codemirror_mode": {
    "name": "ipython",
    "version": 3
   },
   "file_extension": ".py",
   "mimetype": "text/x-python",
   "name": "python",
   "nbconvert_exporter": "python",
   "pygments_lexer": "ipython3",
   "version": "3.8.12"
  }
 },
 "nbformat": 4,
 "nbformat_minor": 5
}
