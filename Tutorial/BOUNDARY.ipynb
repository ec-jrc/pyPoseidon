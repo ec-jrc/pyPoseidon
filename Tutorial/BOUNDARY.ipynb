{
 "cells": [
  {
   "cell_type": "markdown",
   "id": "6149a7c6",
   "metadata": {},
   "source": [
    "# The Geometry module"
   ]
  },
  {
   "cell_type": "markdown",
   "id": "7a86f3d5",
   "metadata": {},
   "source": [
    "This module handles mesh boundary extraction from coastlines or user provided shapefiles. It underpins the [MESH](MESH.ipynb) module.\n",
    "\n",
    "\n",
    "- Requires:\n",
    "\n",
    "    - The data folder. See [README](README.md) in this folder."
   ]
  },
  {
   "cell_type": "code",
   "execution_count": null,
   "id": "d519e5cf",
   "metadata": {},
   "outputs": [],
   "source": [
    "#to use the full width of the browser window\n",
    "from IPython.core.display import display, HTML\n",
    "display(HTML(\"<style>.container { width:100% !important; }</style>\"))"
   ]
  },
  {
   "cell_type": "code",
   "execution_count": null,
   "id": "8ca5e13b",
   "metadata": {},
   "outputs": [],
   "source": [
    "# Not neccessarily needed. Just to check version. Must be >= 0.6\n",
    "import pyposeidon\n",
    "pyposeidon.__version__"
   ]
  },
  {
   "cell_type": "code",
   "execution_count": null,
   "id": "39a15db5",
   "metadata": {},
   "outputs": [],
   "source": [
    "import pyposeidon.boundary as pb"
   ]
  },
  {
   "cell_type": "markdown",
   "id": "7c087322",
   "metadata": {},
   "source": [
    "### Graphics"
   ]
  },
  {
   "cell_type": "code",
   "execution_count": null,
   "id": "32d314a1",
   "metadata": {},
   "outputs": [],
   "source": [
    "import pyposeidon.utils.pplot"
   ]
  },
  {
   "cell_type": "code",
   "execution_count": null,
   "id": "93118936",
   "metadata": {},
   "outputs": [],
   "source": [
    "import pyposeidon.utils.hplot"
   ]
  },
  {
   "cell_type": "code",
   "execution_count": null,
   "id": "9d50225d",
   "metadata": {},
   "outputs": [],
   "source": [
    "import matplotlib.pyplot as plt"
   ]
  },
  {
   "cell_type": "code",
   "execution_count": null,
   "id": "98a2a535",
   "metadata": {},
   "outputs": [],
   "source": [
    "import matplotlib as mpl\n",
    "mpl.rcParams['agg.path.chunksize'] = 10000"
   ]
  },
  {
   "cell_type": "code",
   "execution_count": null,
   "id": "50c72fc3",
   "metadata": {},
   "outputs": [],
   "source": [
    "#optional\n",
    "#pyposeidon.utils.pplot.__init__(dark_background=True) # set plt style for pplot graphics below"
   ]
  },
  {
   "cell_type": "code",
   "execution_count": null,
   "id": "a4c60f20",
   "metadata": {},
   "outputs": [],
   "source": [
    "#optional\n",
    "#plt.style.use('dark_background')"
   ]
  },
  {
   "cell_type": "code",
   "execution_count": null,
   "id": "efd8bb6d",
   "metadata": {},
   "outputs": [],
   "source": [
    "%matplotlib widget"
   ]
  },
  {
   "cell_type": "code",
   "execution_count": null,
   "id": "853ef3b0",
   "metadata": {},
   "outputs": [],
   "source": [
    "#Create a folder to save the output\n",
    "import os\n",
    "if not os.path.exists('test'):\n",
    "            os.makedirs('test')"
   ]
  },
  {
   "cell_type": "markdown",
   "id": "d6d52fc1",
   "metadata": {},
   "source": [
    "- In order to have within the Notebook the executable binaries installed in the conda env of the Kernel we add the corresponding path to the env PATH. This is not needed when we are running from python."
   ]
  },
  {
   "cell_type": "code",
   "execution_count": null,
   "id": "6744e58d",
   "metadata": {},
   "outputs": [],
   "source": [
    "import numpy as np\n",
    "cpath = np.__path__[0].split('/lib/')[0] # get the current kernel path\n",
    "\n",
    "os.environ['PATH'] += os.pathsep + cpath + '/bin' # add to PATH"
   ]
  },
  {
   "cell_type": "markdown",
   "id": "4005931f",
   "metadata": {},
   "source": [
    "## Coastlines"
   ]
  },
  {
   "cell_type": "code",
   "execution_count": null,
   "id": "cc2bfa2e",
   "metadata": {},
   "outputs": [],
   "source": [
    "import geopandas as gp\n",
    "# use cartopy to get coastlines\n",
    "import cartopy.feature as cf"
   ]
  },
  {
   "cell_type": "markdown",
   "id": "d238263d",
   "metadata": {},
   "source": [
    "Without loss of generality we are using the GHSS intermediate resolution dataset"
   ]
  },
  {
   "cell_type": "code",
   "execution_count": null,
   "id": "3d2426dd",
   "metadata": {},
   "outputs": [],
   "source": [
    "gi = cf.GSHHSFeature(scale=\"intermediate\", levels=[1])\n",
    "iGSHHS = gp.GeoDataFrame(geometry=[x for x in gi.geometries()])"
   ]
  },
  {
   "cell_type": "code",
   "execution_count": null,
   "id": "30e94710",
   "metadata": {},
   "outputs": [],
   "source": [
    "iGSHHS.plot()"
   ]
  },
  {
   "cell_type": "markdown",
   "id": "c03e5997",
   "metadata": {},
   "source": [
    "## Case 1\n",
    "\n",
    "A Lat/Lon window with coastlines"
   ]
  },
  {
   "cell_type": "code",
   "execution_count": null,
   "id": "0d17d508",
   "metadata": {},
   "outputs": [],
   "source": [
    "#define in a dictionary the properties of the model..\n",
    "window={'lon_min':-25., # lat/lon window\n",
    "     'lon_max':-9.,\n",
    "     'lat_min':56.,\n",
    "     'lat_max':74.,\n",
    "    }"
   ]
  },
  {
   "cell_type": "code",
   "execution_count": null,
   "id": "b6e6347a",
   "metadata": {},
   "outputs": [],
   "source": [
    "a1 = pb.get_boundaries(geometry=window, coastlines = iGSHHS)"
   ]
  },
  {
   "cell_type": "code",
   "execution_count": null,
   "id": "be971252",
   "metadata": {},
   "outputs": [],
   "source": [
    "a1.contours"
   ]
  },
  {
   "cell_type": "code",
   "execution_count": null,
   "id": "64232f90",
   "metadata": {},
   "outputs": [],
   "source": [
    "# Visualisation with references to the type of boundary (tag column, above)\n",
    "a1.show()"
   ]
  },
  {
   "cell_type": "markdown",
   "id": "f6c97548",
   "metadata": {},
   "source": [
    "## Case 2\n",
    "\n",
    "A global case"
   ]
  },
  {
   "cell_type": "code",
   "execution_count": null,
   "id": "062a65d2",
   "metadata": {},
   "outputs": [],
   "source": [
    "a2 = pb.get_boundaries(geometry='global', coastlines = iGSHHS)"
   ]
  },
  {
   "cell_type": "code",
   "execution_count": null,
   "id": "de689b3e",
   "metadata": {},
   "outputs": [],
   "source": [
    "a2.show()"
   ]
  },
  {
   "cell_type": "markdown",
   "id": "81dc4a20",
   "metadata": {},
   "source": [
    "*Note* that the global mesh is computed in a stereographic projection at lat=-90."
   ]
  },
  {
   "cell_type": "markdown",
   "id": "7dde4479",
   "metadata": {},
   "source": [
    "## Case 3\n",
    "\n",
    "A custom shapefile or GeoDataset"
   ]
  },
  {
   "cell_type": "code",
   "execution_count": null,
   "id": "12dc62a5",
   "metadata": {},
   "outputs": [],
   "source": [
    "boundary='/Users/brey/GitHub/pyPoseidon-dev/tests/data/bl.zip'"
   ]
  },
  {
   "cell_type": "code",
   "execution_count": null,
   "id": "d63b15ab",
   "metadata": {},
   "outputs": [],
   "source": [
    "a3 = pb.get_boundaries(geometry=boundary)"
   ]
  },
  {
   "cell_type": "code",
   "execution_count": null,
   "id": "cfd64ed2",
   "metadata": {},
   "outputs": [],
   "source": [
    "a3.contours"
   ]
  },
  {
   "cell_type": "code",
   "execution_count": null,
   "id": "a267e99d",
   "metadata": {},
   "outputs": [],
   "source": [
    "a3.show()"
   ]
  },
  {
   "cell_type": "markdown",
   "id": "10e5138c",
   "metadata": {},
   "source": [
    "## Case 4 \n",
    "\n",
    "Sometimes it is preferable to buffer the coastlines in order to mask high resolution features and smooth out the boundaries."
   ]
  },
  {
   "cell_type": "code",
   "execution_count": null,
   "id": "a476ac5d",
   "metadata": {},
   "outputs": [],
   "source": [
    "a4 = pb.get_boundaries(geometry=window, coastlines=iGSHHS, cbuffer = .01)"
   ]
  },
  {
   "cell_type": "code",
   "execution_count": null,
   "id": "06d12d8c",
   "metadata": {},
   "outputs": [],
   "source": [
    "a4.show()"
   ]
  },
  {
   "cell_type": "code",
   "execution_count": null,
   "id": "6cbac4bb",
   "metadata": {},
   "outputs": [],
   "source": [
    "# Overlay the original boundary from above for comparison\n",
    "aa=plt.gca()\n",
    "a1.contours.plot(ax=aa, color='r')"
   ]
  }
 ],
 "metadata": {
  "kernelspec": {
   "display_name": "pyPoseidon",
   "language": "python",
   "name": "pyposeidon"
  },
  "language_info": {
   "codemirror_mode": {
    "name": "ipython",
    "version": 3
   },
   "file_extension": ".py",
   "mimetype": "text/x-python",
   "name": "python",
   "nbconvert_exporter": "python",
   "pygments_lexer": "ipython3",
   "version": "3.8.12"
  }
 },
 "nbformat": 4,
 "nbformat_minor": 5
}
