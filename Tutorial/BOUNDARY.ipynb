{
 "cells": [
  {
   "cell_type": "markdown",
   "id": "8f52acbc",
   "metadata": {},
   "source": [
    "# The Boundary module"
   ]
  },
  {
   "cell_type": "markdown",
   "id": "cab59e78",
   "metadata": {},
   "source": [
    "This module handles mesh boundary extraction from coastlines or user provided shapefiles. It underpins the [MESH](MESH.ipynb) module.\n",
    "\n",
    "\n",
    "- Requires:\n",
    "\n",
    "    - The data folder. See [README](README.md) in this folder."
   ]
  },
  {
   "cell_type": "code",
   "execution_count": null,
   "id": "f6a3107a",
   "metadata": {},
   "outputs": [],
   "source": [
    "#to use the full width of the browser window\n",
    "from IPython.display import display, HTML\n",
    "display(HTML(\"<style>.container { width:100% !important; }</style>\"))"
   ]
  },
  {
   "cell_type": "code",
   "execution_count": null,
   "id": "1d773816",
   "metadata": {},
   "outputs": [],
   "source": [
    "# Not neccessarily needed. Just to check version. Must be >= 0.6\n",
    "import pyposeidon\n",
    "pyposeidon.__version__"
   ]
  },
  {
   "cell_type": "code",
   "execution_count": null,
   "id": "2eb10c37",
   "metadata": {},
   "outputs": [],
   "source": [
    "import pyposeidon.boundary as pb"
   ]
  },
  {
   "cell_type": "markdown",
   "id": "e8b9a2e7",
   "metadata": {},
   "source": [
    "### Graphics"
   ]
  },
  {
   "cell_type": "code",
   "execution_count": null,
   "id": "aa50be39",
   "metadata": {},
   "outputs": [],
   "source": [
    "import pyposeidon.utils.pplot"
   ]
  },
  {
   "cell_type": "code",
   "execution_count": null,
   "id": "2dd5b8cb",
   "metadata": {},
   "outputs": [],
   "source": [
    "import pyposeidon.utils.hplot"
   ]
  },
  {
   "cell_type": "code",
   "execution_count": null,
   "id": "a74cc6b0",
   "metadata": {},
   "outputs": [],
   "source": [
    "import matplotlib.pyplot as plt"
   ]
  },
  {
   "cell_type": "code",
   "execution_count": null,
   "id": "267e7285",
   "metadata": {},
   "outputs": [],
   "source": [
    "import matplotlib as mpl\n",
    "mpl.rcParams['agg.path.chunksize'] = 10000"
   ]
  },
  {
   "cell_type": "code",
   "execution_count": null,
   "id": "7990b431",
   "metadata": {},
   "outputs": [],
   "source": [
    "#optional\n",
    "#pyposeidon.utils.pplot.__init__(dark_background=True) # set plt style for pplot graphics below"
   ]
  },
  {
   "cell_type": "code",
   "execution_count": null,
   "id": "631b9c7a",
   "metadata": {},
   "outputs": [],
   "source": [
    "#optional\n",
    "#plt.style.use('dark_background')"
   ]
  },
  {
   "cell_type": "code",
   "execution_count": null,
   "id": "6656b7a2",
   "metadata": {},
   "outputs": [],
   "source": [
    "%matplotlib widget"
   ]
  },
  {
   "cell_type": "code",
   "execution_count": null,
   "id": "9e882621",
   "metadata": {},
   "outputs": [],
   "source": [
    "#Create a folder to save the output\n",
    "import os\n",
    "if not os.path.exists('test'):\n",
    "            os.makedirs('test')"
   ]
  },
  {
   "cell_type": "markdown",
   "id": "76592c87",
   "metadata": {},
   "source": [
    "- In order to have within the Notebook the executable binaries installed in the conda env of the Kernel we add the corresponding path to the env `PATH`. This is not needed when we are running from python."
   ]
  },
  {
   "cell_type": "code",
   "execution_count": null,
   "id": "21fb8e63",
   "metadata": {},
   "outputs": [],
   "source": [
    "import numpy as np\n",
    "cpath = np.__path__[0].split('/lib/')[0] # get the current kernel path\n",
    "\n",
    "os.environ['PATH'] += os.pathsep + cpath + '/bin' # add to PATH"
   ]
  },
  {
   "cell_type": "markdown",
   "id": "b1ffb7fd",
   "metadata": {},
   "source": [
    "## Coastlines"
   ]
  },
  {
   "cell_type": "code",
   "execution_count": null,
   "id": "9cad8061",
   "metadata": {},
   "outputs": [],
   "source": [
    "import geopandas as gp\n",
    "# use cartopy to get coastlines\n",
    "import cartopy.feature as cf"
   ]
  },
  {
   "cell_type": "markdown",
   "id": "d57eb9bd",
   "metadata": {},
   "source": [
    "Without loss of generality we are using the `GHSS` intermediate resolution dataset"
   ]
  },
  {
   "cell_type": "code",
   "execution_count": null,
   "id": "50f7ecad",
   "metadata": {},
   "outputs": [],
   "source": [
    "gi = cf.GSHHSFeature(scale=\"intermediate\", levels=[1])\n",
    "iGSHHS = gp.GeoDataFrame(geometry=[x for x in gi.geometries()])"
   ]
  },
  {
   "cell_type": "code",
   "execution_count": null,
   "id": "b02f1607",
   "metadata": {},
   "outputs": [],
   "source": [
    "iGSHHS.plot()"
   ]
  },
  {
   "cell_type": "markdown",
   "id": "c3be0a46",
   "metadata": {},
   "source": [
    "## Case 1\n",
    "\n",
    "A Lat/Lon window with coastlines"
   ]
  },
  {
   "cell_type": "code",
   "execution_count": null,
   "id": "85ee16f9",
   "metadata": {},
   "outputs": [],
   "source": [
    "#define in a dictionary the properties of the model..\n",
    "window={'lon_min':-25., # lat/lon window\n",
    "     'lon_max':-9.,\n",
    "     'lat_min':56.,\n",
    "     'lat_max':74.,\n",
    "    }"
   ]
  },
  {
   "cell_type": "code",
   "execution_count": null,
   "id": "762fcf20",
   "metadata": {},
   "outputs": [],
   "source": [
    "a1 = pb.Boundary(geometry=window, coastlines = iGSHHS)"
   ]
  },
  {
   "cell_type": "code",
   "execution_count": null,
   "id": "abe492b3",
   "metadata": {},
   "outputs": [],
   "source": [
    "a1.contours"
   ]
  },
  {
   "cell_type": "code",
   "execution_count": null,
   "id": "349eac1a",
   "metadata": {},
   "outputs": [],
   "source": [
    "# Visualisation with references to the type of boundary (tag column, above)\n",
    "a1.show()"
   ]
  },
  {
   "cell_type": "markdown",
   "id": "f849c6ca",
   "metadata": {},
   "source": [
    "## Case 2\n",
    "\n",
    "A global case"
   ]
  },
  {
   "cell_type": "code",
   "execution_count": null,
   "id": "2d7a2239",
   "metadata": {},
   "outputs": [],
   "source": [
    "a2 = pb.Boundary(geometry='global', coastlines = iGSHHS)"
   ]
  },
  {
   "cell_type": "code",
   "execution_count": null,
   "id": "4f60b44e",
   "metadata": {},
   "outputs": [],
   "source": [
    "a2.show()"
   ]
  },
  {
   "cell_type": "markdown",
   "id": "a538cd90",
   "metadata": {},
   "source": [
    "*Note* that the global mesh is computed in a stereographic projection at lat=-90."
   ]
  },
  {
   "cell_type": "markdown",
   "id": "42848ce0",
   "metadata": {},
   "source": [
    "## Case 3\n",
    "\n",
    "A custom shapefile or GeoDataset"
   ]
  },
  {
   "cell_type": "code",
   "execution_count": null,
   "id": "08449b0c",
   "metadata": {},
   "outputs": [],
   "source": [
    "boundary='./data/bl/bl.shp'"
   ]
  },
  {
   "cell_type": "code",
   "execution_count": null,
   "id": "9dd0979a",
   "metadata": {},
   "outputs": [],
   "source": [
    "a3 = pb.Boundary(geometry=boundary)"
   ]
  },
  {
   "cell_type": "code",
   "execution_count": null,
   "id": "e5ce95ed",
   "metadata": {},
   "outputs": [],
   "source": [
    "a3.contours"
   ]
  },
  {
   "cell_type": "code",
   "execution_count": null,
   "id": "86037055",
   "metadata": {},
   "outputs": [],
   "source": [
    "a3.show()"
   ]
  },
  {
   "cell_type": "markdown",
   "id": "a87c94ec",
   "metadata": {},
   "source": [
    "## Case 4 \n",
    "\n",
    "Sometimes it is preferable to buffer the coastlines in order to mask high resolution features and smooth out the boundaries."
   ]
  },
  {
   "cell_type": "code",
   "execution_count": null,
   "id": "2430f8c7",
   "metadata": {},
   "outputs": [],
   "source": [
    "a4 = pb.Boundary(geometry=window, coastlines=iGSHHS, cbuffer = .01)"
   ]
  },
  {
   "cell_type": "code",
   "execution_count": null,
   "id": "d30fbaed",
   "metadata": {},
   "outputs": [],
   "source": [
    "a4.show()"
   ]
  },
  {
   "cell_type": "code",
   "execution_count": null,
   "id": "2218e8a4",
   "metadata": {},
   "outputs": [],
   "source": [
    "# Overlay the original boundary from above for comparison\n",
    "aa=plt.gca()\n",
    "a1.contours.plot(ax=aa, color='r')"
   ]
  }
 ],
 "metadata": {
  "kernelspec": {
   "display_name": "pyPoseidon",
   "language": "python",
   "name": "pyposeidon"
  },
  "language_info": {
   "codemirror_mode": {
    "name": "ipython",
    "version": 3
   },
   "file_extension": ".py",
   "mimetype": "text/x-python",
   "name": "python",
   "nbconvert_exporter": "python",
   "pygments_lexer": "ipython3",
   "version": "3.8.12"
  }
 },
 "nbformat": 4,
 "nbformat_minor": 5
}
