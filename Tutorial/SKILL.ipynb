{
 "cells": [
  {
   "cell_type": "markdown",
   "id": "c49a091e",
   "metadata": {
    "tags": []
   },
   "source": [
    "# Station Validation of forecasts"
   ]
  },
  {
   "cell_type": "markdown",
   "id": "c4c251b1",
   "metadata": {},
   "source": [
    "Validation of operational systems usually include comparison with observational data in specific locations. This Notebook outlines the procedure using pyposeidon. \n",
    "\n",
    "\n",
    "- Requires:\n",
    "\n",
    "    - The data folder. See [README](README.md) in this folder.\n",
    "\n",
    "    - The output of the [FORECAST](./FORECAST.ipynb) Notebook."
   ]
  },
  {
   "cell_type": "code",
   "execution_count": null,
   "id": "5c2f6a54",
   "metadata": {},
   "outputs": [],
   "source": [
    "#to use the full width of the browser window\n",
    "from IPython.core.display import display, HTML\n",
    "display(HTML(\"<style>.container { width:100% !important; }</style>\"))"
   ]
  },
  {
   "cell_type": "code",
   "execution_count": null,
   "id": "8dea2aae",
   "metadata": {},
   "outputs": [],
   "source": [
    "# Not neccessarily needed. Just to check version. Must be >= 0.6\n",
    "import pyposeidon\n",
    "pyposeidon.__version__"
   ]
  },
  {
   "cell_type": "code",
   "execution_count": null,
   "id": "8c5c3218",
   "metadata": {},
   "outputs": [],
   "source": [
    "import pyposeidon.model as pm"
   ]
  },
  {
   "cell_type": "code",
   "execution_count": null,
   "id": "7ba8baf7",
   "metadata": {},
   "outputs": [],
   "source": [
    "import matplotlib.pyplot as plt"
   ]
  },
  {
   "cell_type": "code",
   "execution_count": null,
   "id": "819b1539",
   "metadata": {},
   "outputs": [],
   "source": [
    "%matplotlib widget"
   ]
  },
  {
   "cell_type": "markdown",
   "id": "42efc74e",
   "metadata": {},
   "source": [
    "### Graphics"
   ]
  },
  {
   "cell_type": "code",
   "execution_count": null,
   "id": "78ed71b5",
   "metadata": {},
   "outputs": [],
   "source": [
    "import pyposeidon.utils.pplot # initialize matplolib accessor"
   ]
  },
  {
   "cell_type": "code",
   "execution_count": null,
   "id": "9ccb1120",
   "metadata": {},
   "outputs": [],
   "source": [
    "#optional\n",
    "#pyposeidon.utils.pplot.__init__(dark_background=True) # set plt style for pplot graphics below"
   ]
  },
  {
   "cell_type": "code",
   "execution_count": null,
   "id": "687d8c11",
   "metadata": {},
   "outputs": [],
   "source": [
    "import pyposeidon.utils.hplot # initialize pyviz accessor"
   ]
  },
  {
   "cell_type": "markdown",
   "id": "5b417ff1",
   "metadata": {},
   "source": [
    "- In order to have within the Notebook the executable binaries installed in the conda env of the Kernel we add the corresponding path to the env PATH. This is not needed when we are running from python."
   ]
  },
  {
   "cell_type": "code",
   "execution_count": null,
   "id": "315c83c0",
   "metadata": {},
   "outputs": [],
   "source": [
    "#Create a folder to save the output\n",
    "import os\n",
    "if not os.path.exists('test'):\n",
    "            os.makedirs('test')"
   ]
  },
  {
   "cell_type": "code",
   "execution_count": null,
   "id": "8c40310f",
   "metadata": {},
   "outputs": [],
   "source": [
    "import numpy\n",
    "cpath = numpy.__path__[0].split('/lib/')[0] # get the current kernel path\n",
    "\n",
    "os.environ['PATH'] += os.pathsep + cpath + '/bin' # add to PATH"
   ]
  },
  {
   "cell_type": "markdown",
   "id": "63b29167",
   "metadata": {},
   "source": [
    "## Setup"
   ]
  },
  {
   "cell_type": "markdown",
   "id": "73d8c2ae",
   "metadata": {},
   "source": [
    "We will use the output of the [FORECAST](./FORECAST.ipynb) Notebook. Make sure you have executed that before.\n"
   ]
  },
  {
   "cell_type": "markdown",
   "id": "cea52ed1",
   "metadata": {},
   "source": [
    "The runs are all in different folders and we want to consolidate the station time series.\n",
    "\n",
    "* Note that because of the overlaping time frames we have a number of forecasted values per location, based on the frequence of the forecasts."
   ]
  },
  {
   "cell_type": "markdown",
   "id": "cd07b37c",
   "metadata": {},
   "source": [
    "We define the folders involved"
   ]
  },
  {
   "cell_type": "code",
   "execution_count": null,
   "id": "df36f1d1",
   "metadata": {},
   "outputs": [],
   "source": [
    "import glob"
   ]
  },
  {
   "cell_type": "code",
   "execution_count": null,
   "id": "73d335a1",
   "metadata": {},
   "outputs": [],
   "source": [
    "folders = glob.glob('./test/forecast/*')\n",
    "folders.sort()\n",
    "folders"
   ]
  },
  {
   "cell_type": "markdown",
   "id": "52ad08b1",
   "metadata": {},
   "source": [
    "We combine all available data with"
   ]
  },
  {
   "cell_type": "code",
   "execution_count": null,
   "id": "970bafdf",
   "metadata": {},
   "outputs": [],
   "source": [
    "from pyposeidon.utils.post import to_thalassa"
   ]
  },
  {
   "cell_type": "code",
   "execution_count": null,
   "id": "f27783b7",
   "metadata": {},
   "outputs": [],
   "source": [
    "to_thalassa(folders,freq=6, rpath='./test/thalassa/')"
   ]
  },
  {
   "cell_type": "code",
   "execution_count": null,
   "id": "ca5b65ad",
   "metadata": {},
   "outputs": [],
   "source": [
    "import xarray as xr"
   ]
  },
  {
   "cell_type": "code",
   "execution_count": null,
   "id": "3b7b815e",
   "metadata": {},
   "outputs": [],
   "source": [
    "vdata = xr.open_dataset('./test/thalassa/fskill.nc')"
   ]
  },
  {
   "cell_type": "code",
   "execution_count": null,
   "id": "807c5295",
   "metadata": {},
   "outputs": [],
   "source": [
    "vdata"
   ]
  },
  {
   "cell_type": "code",
   "execution_count": null,
   "id": "80c9109f",
   "metadata": {},
   "outputs": [],
   "source": [
    "#select node\n",
    "node = vdata.sel(node=1)"
   ]
  },
  {
   "cell_type": "code",
   "execution_count": null,
   "id": "858c5045",
   "metadata": {},
   "outputs": [],
   "source": [
    "plt.figure()\n",
    "node.elevation.dropna(dim='time').plot(color='r',label='model')\n",
    "node.observation.dropna(dim='time').plot(label='obsrv')\n",
    "plt.legend()"
   ]
  },
  {
   "cell_type": "markdown",
   "id": "2e6b315b",
   "metadata": {},
   "source": [
    "## Estimate forecasting skill"
   ]
  },
  {
   "cell_type": "code",
   "execution_count": null,
   "id": "be2cec06",
   "metadata": {},
   "outputs": [],
   "source": [
    "#Visualize all forecasts plots\n",
    "plt.figure()\n",
    "vdata.isel(node=1).forecast.plot.line(x='ftime')"
   ]
  },
  {
   "cell_type": "markdown",
   "id": "df203afe",
   "metadata": {},
   "source": [
    "Using the dataset (vdata), the indicator (RMSE) and the node (1) we can get the relative skill for 12,24,36,48,60,72 forecast lead time"
   ]
  },
  {
   "cell_type": "code",
   "execution_count": null,
   "id": "09bcf4ed",
   "metadata": {},
   "outputs": [],
   "source": [
    "from pyposeidon.utils.post import fskill"
   ]
  },
  {
   "cell_type": "code",
   "execution_count": null,
   "id": "bf35637c",
   "metadata": {},
   "outputs": [],
   "source": [
    "rr = fskill(vdata,'RMSE',1)\n",
    "rr"
   ]
  }
 ],
 "metadata": {
  "kernelspec": {
   "display_name": "pyPoseidon",
   "language": "python",
   "name": "pyposeidon"
  },
  "language_info": {
   "codemirror_mode": {
    "name": "ipython",
    "version": 3
   },
   "file_extension": ".py",
   "mimetype": "text/x-python",
   "name": "python",
   "nbconvert_exporter": "python",
   "pygments_lexer": "ipython3",
   "version": "3.8.12"
  }
 },
 "nbformat": 4,
 "nbformat_minor": 5
}
