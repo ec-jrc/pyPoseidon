{
 "cells": [
  {
   "cell_type": "markdown",
   "id": "8f1eafa9",
   "metadata": {},
   "source": [
    "# Various available utilities "
   ]
  },
  {
   "cell_type": "markdown",
   "id": "4b857214",
   "metadata": {},
   "source": [
    "This Notebook presents some usefull utilities included in pyposeidon. \n",
    "\n",
    "\n",
    "- Requires:\n",
    "\n",
    "    - The *./test/global/results.nc* file from the [Global Storm Surge](GSS.ipynb) Notebook.\n",
    "\n",
    "    - The data folder. See [README](README.md) in this folder."
   ]
  },
  {
   "cell_type": "code",
   "execution_count": null,
   "id": "0e14c6f8",
   "metadata": {},
   "outputs": [],
   "source": [
    "#to use the full width of the browser window\n",
    "from IPython.core.display import display, HTML\n",
    "display(HTML(\"<style>.container { width:100% !important; }</style>\"))"
   ]
  },
  {
   "cell_type": "code",
   "execution_count": null,
   "id": "a2127bfc",
   "metadata": {},
   "outputs": [],
   "source": [
    "# Not neccessarily needed. Just to check version. Must be >= 0.6\n",
    "import pyposeidon\n",
    "pyposeidon.__version__"
   ]
  },
  {
   "cell_type": "code",
   "execution_count": null,
   "id": "d1c242c0",
   "metadata": {},
   "outputs": [],
   "source": [
    "import pyposeidon.utils.pplot # initialize matplolib accessor"
   ]
  },
  {
   "cell_type": "code",
   "execution_count": null,
   "id": "39bd2aa0",
   "metadata": {},
   "outputs": [],
   "source": [
    "#optional\n",
    "#pyposeidon.utils.pplot.__init__(dark_background=True) # set plt style for pplot graphics below"
   ]
  },
  {
   "cell_type": "code",
   "execution_count": null,
   "id": "0576ffc5",
   "metadata": {},
   "outputs": [],
   "source": [
    "import pyposeidon.utils.mplot # initialize pyviz accessor"
   ]
  },
  {
   "cell_type": "code",
   "execution_count": null,
   "id": "02515320",
   "metadata": {},
   "outputs": [],
   "source": [
    "import xarray as xr"
   ]
  },
  {
   "cell_type": "code",
   "execution_count": null,
   "id": "68d09c49",
   "metadata": {},
   "outputs": [],
   "source": [
    "import numpy as np"
   ]
  },
  {
   "cell_type": "markdown",
   "id": "04148b24",
   "metadata": {},
   "source": [
    "## 2D Visualization of a global mesh"
   ]
  },
  {
   "cell_type": "markdown",
   "id": "2f72550b",
   "metadata": {},
   "source": [
    "When working with a global mesh the 2D representation of the data is problematic."
   ]
  },
  {
   "cell_type": "code",
   "execution_count": null,
   "id": "ba27b916",
   "metadata": {},
   "outputs": [],
   "source": [
    "r = xr.open_dataset('./test/global/results.nc')"
   ]
  },
  {
   "cell_type": "code",
   "execution_count": null,
   "id": "6a3486eb",
   "metadata": {},
   "outputs": [],
   "source": [
    "r"
   ]
  },
  {
   "cell_type": "markdown",
   "id": "0cc1d60b",
   "metadata": {},
   "source": [
    "We can visualize in 3D correctly with"
   ]
  },
  {
   "cell_type": "code",
   "execution_count": null,
   "id": "c1673bb1",
   "metadata": {},
   "outputs": [],
   "source": [
    "r.mplot.mesh(dim='3D')"
   ]
  },
  {
   "cell_type": "markdown",
   "id": "9fb2c142",
   "metadata": {},
   "source": [
    "But in 2D we get artifacts due to the cross over elements..."
   ]
  },
  {
   "cell_type": "code",
   "execution_count": null,
   "id": "704d7d71",
   "metadata": {},
   "outputs": [],
   "source": [
    "r.pplot.mesh(lw=.3, markersize=.5)"
   ]
  },
  {
   "cell_type": "markdown",
   "id": "8d3199cb",
   "metadata": {},
   "source": [
    "However, using the corresponding utility from pyposeidon we can create a seam on the international time line mitigating the problem."
   ]
  },
  {
   "cell_type": "code",
   "execution_count": null,
   "id": "0c5c1839",
   "metadata": {},
   "outputs": [],
   "source": [
    "from pyposeidon.utils.seam import get_seam"
   ]
  },
  {
   "cell_type": "code",
   "execution_count": null,
   "id": "6e724e20",
   "metadata": {},
   "outputs": [],
   "source": [
    "#original mesh topology\n",
    "x = r.SCHISM_hgrid_node_x[:].values\n",
    "y = r.SCHISM_hgrid_node_y[:].values\n",
    "tri3 = r.SCHISM_hgrid_face_nodes.values[:,:3].astype(int)"
   ]
  },
  {
   "cell_type": "code",
   "execution_count": null,
   "id": "5a39baeb",
   "metadata": {},
   "outputs": [],
   "source": [
    "x.shape, y.shape, tri3.shape"
   ]
  },
  {
   "cell_type": "code",
   "execution_count": null,
   "id": "617a43ca",
   "metadata": {},
   "outputs": [],
   "source": [
    "xn,yn,tri3n= get_seam(x,y,None,tri3) # get seamed arrays "
   ]
  },
  {
   "cell_type": "code",
   "execution_count": null,
   "id": "dff6ed1a",
   "metadata": {},
   "outputs": [],
   "source": [
    "#These arrays can be saved for future use (see below)\n",
    "np.save(\"./test/global/to2d\", [xn, yn, tri3n])\n",
    "#load if needed\n",
    "#[xn, yn, tri3n] = np.load(\"./test/global/to2d.npy\",allow_pickle=True)"
   ]
  },
  {
   "cell_type": "code",
   "execution_count": null,
   "id": "2be8873a",
   "metadata": {},
   "outputs": [],
   "source": [
    "# we see that the number of elements and nodes increased due to the split\n",
    "xn.shape, yn.shape, tri3n.shape"
   ]
  },
  {
   "cell_type": "code",
   "execution_count": null,
   "id": "a1aa24f6",
   "metadata": {},
   "outputs": [],
   "source": [
    "r.pplot.mesh(x=xn,y=yn,tes=tri3n,lw=.3, markersize=.5)"
   ]
  },
  {
   "cell_type": "markdown",
   "id": "023786de",
   "metadata": {},
   "source": [
    "The creation of the seam can best visualized in 3D"
   ]
  },
  {
   "cell_type": "code",
   "execution_count": null,
   "id": "5bd00131",
   "metadata": {},
   "outputs": [],
   "source": [
    "r.mplot.mesh(x=xn,y=yn,tes=tri3n,dim='3D')"
   ]
  },
  {
   "cell_type": "markdown",
   "id": "0e3f9f8b",
   "metadata": {},
   "source": [
    "## Get variables in the new 2D grid"
   ]
  },
  {
   "cell_type": "markdown",
   "id": "5ba2ef19",
   "metadata": {},
   "source": [
    "Having the new 2D topology we can compute the corresponding values for any variable in a dataset.\n",
    "\n",
    "Here we use the data from the global run."
   ]
  },
  {
   "cell_type": "code",
   "execution_count": null,
   "id": "768f2583",
   "metadata": {},
   "outputs": [],
   "source": [
    "from pyposeidon.utils.seam import to_2d"
   ]
  },
  {
   "cell_type": "markdown",
   "id": "98fba68a",
   "metadata": {},
   "source": [
    "Specifying the variable we can then extract the new dataset e.g. for \"depth\""
   ]
  },
  {
   "cell_type": "code",
   "execution_count": null,
   "id": "d90104f1",
   "metadata": {},
   "outputs": [],
   "source": [
    "bathymetry = to_2d(r,var='depth', mesh=[xn,yn,tri3n])"
   ]
  },
  {
   "cell_type": "code",
   "execution_count": null,
   "id": "b774fe12",
   "metadata": {},
   "outputs": [],
   "source": [
    "bathymetry.mplot.contourf(var='depth', dim='3D') # plot in 3D"
   ]
  },
  {
   "cell_type": "markdown",
   "id": "51c1491a",
   "metadata": {},
   "source": [
    ".. or  in 2D .."
   ]
  },
  {
   "cell_type": "code",
   "execution_count": null,
   "id": "8753b923",
   "metadata": {},
   "outputs": [],
   "source": [
    "bathymetry.pplot.contourf(var='depth')"
   ]
  },
  {
   "cell_type": "markdown",
   "id": "d8ccd88e",
   "metadata": {},
   "source": [
    "Likewise for the time variables..."
   ]
  },
  {
   "cell_type": "code",
   "execution_count": null,
   "id": "a04f2f5d",
   "metadata": {},
   "outputs": [],
   "source": [
    "sl = to_2d(r,var='elev', mesh=[xn,yn,tri3n])"
   ]
  },
  {
   "cell_type": "code",
   "execution_count": null,
   "id": "727e2700",
   "metadata": {},
   "outputs": [],
   "source": [
    "# animate in 2D\n",
    "sl.pplot.frames(var='elev',title='SSH')"
   ]
  },
  {
   "cell_type": "code",
   "execution_count": null,
   "id": "507434ff",
   "metadata": {},
   "outputs": [],
   "source": [
    "#this dataset can be saved to a new netcdf file as usual\n",
    "sl.to_netcdf('./test/global/elev.nc')"
   ]
  },
  {
   "cell_type": "code",
   "execution_count": null,
   "id": "96ce721c",
   "metadata": {},
   "outputs": [],
   "source": [
    "# We can plot the elevation data for the last timestep in 3D as\n",
    "sl.mplot.contourf(var='elev', it=-1, dim='3D')"
   ]
  }
 ],
 "metadata": {
  "kernelspec": {
   "display_name": "pyPoseidon",
   "language": "python",
   "name": "pyposeidon"
  },
  "language_info": {
   "codemirror_mode": {
    "name": "ipython",
    "version": 3
   },
   "file_extension": ".py",
   "mimetype": "text/x-python",
   "name": "python",
   "nbconvert_exporter": "python",
   "pygments_lexer": "ipython3",
   "version": "3.8.12"
  }
 },
 "nbformat": 4,
 "nbformat_minor": 5
}
