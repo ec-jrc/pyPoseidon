{
 "cells": [
  {
   "cell_type": "markdown",
   "id": "da38e1ba",
   "metadata": {
    "tags": []
   },
   "source": [
    "# Hindcasts"
   ]
  },
  {
   "cell_type": "markdown",
   "id": "d04122cf",
   "metadata": {},
   "source": [
    "When doing a long hindcast simulation is preferable to split the process in several steps and use hotstarting for compliting the task.\n",
    "\n",
    "\n",
    "- Requires:\n",
    "\n",
    "    - The data folder. See [README](README.md) in this folder."
   ]
  },
  {
   "cell_type": "code",
   "execution_count": null,
   "id": "87b5a306",
   "metadata": {},
   "outputs": [],
   "source": [
    "#to use the full width of the browser window\n",
    "from IPython.core.display import display, HTML\n",
    "display(HTML(\"<style>.container { width:100% !important; }</style>\"))"
   ]
  },
  {
   "cell_type": "code",
   "execution_count": null,
   "id": "a14bc45d",
   "metadata": {},
   "outputs": [],
   "source": [
    "# Not neccessarily needed. Just to check version. Must be >= 0.6\n",
    "import pyposeidon\n",
    "pyposeidon.__version__"
   ]
  },
  {
   "cell_type": "code",
   "execution_count": null,
   "id": "3709a90f",
   "metadata": {},
   "outputs": [],
   "source": [
    "import pyposeidon.model as pm"
   ]
  },
  {
   "cell_type": "markdown",
   "id": "f85e78a2",
   "metadata": {},
   "source": [
    "### Graphics"
   ]
  },
  {
   "cell_type": "code",
   "execution_count": null,
   "id": "4c1155e8",
   "metadata": {},
   "outputs": [],
   "source": [
    "import pyposeidon.utils.pplot # initialize matplolib accessor"
   ]
  },
  {
   "cell_type": "code",
   "execution_count": null,
   "id": "772a109e",
   "metadata": {},
   "outputs": [],
   "source": [
    "#optional\n",
    "#pyposeidon.utils.pplot.__init__(dark_background=True) # set plt style for pplot graphics below"
   ]
  },
  {
   "cell_type": "code",
   "execution_count": null,
   "id": "d9844e47",
   "metadata": {},
   "outputs": [],
   "source": [
    "import pyposeidon.utils.hplot # initialize pyviz accessor"
   ]
  },
  {
   "cell_type": "markdown",
   "id": "0de1b9ef",
   "metadata": {},
   "source": [
    "- In order to have within the Notebook the executable binaries installed in the conda env of the Kernel we add the corresponding path to the env PATH. This is not needed when we are running from python."
   ]
  },
  {
   "cell_type": "code",
   "execution_count": null,
   "id": "d068f1d0",
   "metadata": {},
   "outputs": [],
   "source": [
    "#Create a folder to save the output\n",
    "import os\n",
    "if not os.path.exists('test'):\n",
    "            os.makedirs('test')"
   ]
  },
  {
   "cell_type": "code",
   "execution_count": null,
   "id": "e0161e52",
   "metadata": {},
   "outputs": [],
   "source": [
    "import numpy\n",
    "cpath = numpy.__path__[0].split('/lib/')[0] # get the current kernel path\n",
    "\n",
    "os.environ['PATH'] += os.pathsep + cpath + '/bin' # add to PATH"
   ]
  },
  {
   "cell_type": "code",
   "execution_count": null,
   "id": "ee5858fd",
   "metadata": {},
   "outputs": [],
   "source": [
    "import geopandas as gp\n",
    "# use cartopy to get coastlines\n",
    "import cartopy.feature as cf"
   ]
  },
  {
   "cell_type": "markdown",
   "id": "e42810b8",
   "metadata": {},
   "source": [
    "Without loss of generality we are using the natural earth's intermediate resolution dataset as coastlines"
   ]
  },
  {
   "cell_type": "code",
   "execution_count": null,
   "id": "33cef532",
   "metadata": {},
   "outputs": [],
   "source": [
    "cr='i'\n",
    "\n",
    "coast = cf.NaturalEarthFeature(\n",
    "    category='physical',\n",
    "    name='land',\n",
    "    scale='{}m'.format({'l':110, 'i':50, 'h':10}[cr]))"
   ]
  },
  {
   "cell_type": "code",
   "execution_count": null,
   "id": "311fafe8",
   "metadata": {},
   "outputs": [],
   "source": [
    "import geopandas as gp\n",
    "ne_i = gp.GeoDataFrame(geometry = [x for x in coast.geometries()])"
   ]
  },
  {
   "cell_type": "markdown",
   "id": "a2c779ea",
   "metadata": {},
   "source": [
    "## Setup"
   ]
  },
  {
   "cell_type": "markdown",
   "id": "9755b2c9",
   "metadata": {},
   "source": [
    "The minimum information required is an initial model and corresponding run. We set this one up. For more info see the [MODEL](./MODEL.ipynb) Notebook.\n"
   ]
  },
  {
   "cell_type": "code",
   "execution_count": null,
   "id": "e30b15c8",
   "metadata": {},
   "outputs": [],
   "source": [
    "#define in a dictionary the properties of the model..\n",
    "model={'solver':'schism',\n",
    "     'geometry':{'lon_min' : -25,'lon_max' : -12.,'lat_min' : 56.,'lat_max' : 74.}, \n",
    "#     'manning':.12, #uniform manning value\n",
    "#     'windrot':0.00001, #uniform windrot value\n",
    "     'coastlines':ne_i,\n",
    "     'mesh_generator' : 'jigsaw', # set grid generator \n",
    "     'start_date':'2011-01-1 0:0:0',\n",
    "     'time_frame':'12H',\n",
    "     'meteo_source' : './data/era5.grib', #path to meteo files\n",
    "     'dem_source' : './data/dem.nc', #path to dem file\n",
    "     'rpath':'./test/hindcast/20110101.00/', #location of calc folder\n",
    "#     'update':['all'], #set which component should be updated  (meteo,dem,model)\n",
    "#     'monitor':True, # get time series for observation points\n",
    "     'parameters':{'dt':400, 'rnday':.5, 'nhot':1, 'ihot':0,'nspool':9, 'ihfskip':36, 'nhot_write':108 } # set param.in components\n",
    "    }"
   ]
  },
  {
   "cell_type": "markdown",
   "id": "9efcfe27",
   "metadata": {},
   "source": [
    "* Note that the parameters arguments will override relevant settings"
   ]
  },
  {
   "cell_type": "markdown",
   "id": "901f5eb9",
   "metadata": {},
   "source": [
    "## Initialize"
   ]
  },
  {
   "cell_type": "code",
   "execution_count": null,
   "id": "b6c7739f",
   "metadata": {},
   "outputs": [],
   "source": [
    "#initialize a model\n",
    "b = pm.set(**model)"
   ]
  },
  {
   "cell_type": "code",
   "execution_count": null,
   "id": "ef4d1bfa",
   "metadata": {},
   "outputs": [],
   "source": [
    "#Execute\n",
    "b.execute()"
   ]
  },
  {
   "cell_type": "markdown",
   "id": "a76be0f2",
   "metadata": {},
   "source": [
    "## Setup a hindcast\n",
    "\n",
    "Let's assume we want to split the hindcast on a 12H splits. Doing a hindcast doesn't, in general, entail overlaping meteo forcing. However when more than one meteo file is needed one needs to be consistent into aligning the dates accordingly. There is an extra argument that provides that functionality (see documentation). \n",
    "\n",
    "We setup the hindcast process as"
   ]
  },
  {
   "cell_type": "code",
   "execution_count": null,
   "id": "0cccd4bd",
   "metadata": {},
   "outputs": [],
   "source": [
    "from pyposeidon.utils import cast\n",
    "import pandas as pd\n",
    "import datetime"
   ]
  },
  {
   "cell_type": "code",
   "execution_count": null,
   "id": "84e5000e",
   "metadata": {},
   "outputs": [],
   "source": [
    "# creating a time sequence of the runs\n",
    "start_date = pd.to_datetime(\"2011-1-1 0:0:0\")\n",
    "end_date = pd.to_datetime(\"2011-1-2 0:0:0\")\n",
    "date_list = pd.date_range(start_date, end_date, freq=\"12H\")\n",
    "date_list"
   ]
  },
  {
   "cell_type": "code",
   "execution_count": null,
   "id": "48522b1e",
   "metadata": {},
   "outputs": [],
   "source": [
    "# creating a sequence of folder to store the runs. In this case we name them after the date attribute.\n",
    "# NOTE that the first folder is the fisrt run already perfomed!!\n",
    "rpaths = ['./test/hindcast/' + datetime.datetime.strftime(x, \"%Y%m%d.%H\") + \"/\" for x in date_list]\n",
    "rpaths"
   ]
  },
  {
   "cell_type": "markdown",
   "id": "37eb16e2",
   "metadata": {},
   "source": [
    "So now we can execute the cast sequencially as"
   ]
  },
  {
   "cell_type": "code",
   "execution_count": null,
   "id": "abc9af34",
   "metadata": {},
   "outputs": [],
   "source": [
    "for l in range(len(rpaths) - 1):\n",
    "\n",
    "    fc = cast.set(solver='schism',\n",
    "            model=b,\n",
    "            ppath=rpaths[l],\n",
    "            cpath=rpaths[l + 1],\n",
    "            meteo='./data/era5.grib',\n",
    "            sdate=date_list[l + 1],\n",
    "                ) \n",
    "    fc.run(execute=True)"
   ]
  },
  {
   "cell_type": "markdown",
   "id": "fb6c2f1b",
   "metadata": {},
   "source": [
    "## Output"
   ]
  },
  {
   "cell_type": "markdown",
   "id": "8ab9336c",
   "metadata": {},
   "source": [
    "The output data can be combined using the data utility as"
   ]
  },
  {
   "cell_type": "code",
   "execution_count": null,
   "id": "1d8a4131",
   "metadata": {},
   "outputs": [],
   "source": [
    "from pyposeidon.utils import data"
   ]
  },
  {
   "cell_type": "code",
   "execution_count": null,
   "id": "57d6f9df",
   "metadata": {},
   "outputs": [],
   "source": [
    "d = data.get_output(solver='schism', folders=rpaths)"
   ]
  },
  {
   "cell_type": "code",
   "execution_count": null,
   "id": "e78667ec",
   "metadata": {},
   "outputs": [],
   "source": [
    "d.Dataset"
   ]
  },
  {
   "cell_type": "code",
   "execution_count": null,
   "id": "0869e1ca",
   "metadata": {},
   "outputs": [],
   "source": [
    "d.folders"
   ]
  }
 ],
 "metadata": {
  "kernelspec": {
   "display_name": "pyPoseidon",
   "language": "python",
   "name": "pyposeidon"
  },
  "language_info": {
   "codemirror_mode": {
    "name": "ipython",
    "version": 3
   },
   "file_extension": ".py",
   "mimetype": "text/x-python",
   "name": "python",
   "nbconvert_exporter": "python",
   "pygments_lexer": "ipython3",
   "version": "3.8.12"
  }
 },
 "nbformat": 4,
 "nbformat_minor": 5
}
