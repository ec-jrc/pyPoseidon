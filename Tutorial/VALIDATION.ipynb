{
 "cells": [
  {
   "cell_type": "markdown",
   "id": "5d136394",
   "metadata": {
    "tags": []
   },
   "source": [
    "# Validation"
   ]
  },
  {
   "cell_type": "markdown",
   "id": "b8d1532a",
   "metadata": {},
   "source": [
    "Station points configuration and analysis. \n",
    "\n",
    "\n",
    "- Requires:\n",
    "\n",
    "    - The data folder. See [README](README.md) in this folder."
   ]
  },
  {
   "cell_type": "code",
   "execution_count": null,
   "id": "9c72e8d1",
   "metadata": {},
   "outputs": [],
   "source": [
    "#to use the full width of the browser window\n",
    "from IPython.core.display import display, HTML\n",
    "display(HTML(\"<style>.container { width:100% !important; }</style>\"))"
   ]
  },
  {
   "cell_type": "code",
   "execution_count": null,
   "id": "d836fcd2",
   "metadata": {},
   "outputs": [],
   "source": [
    "# Not neccessarily needed. Just to check version. Must be >= 0.6\n",
    "import pyposeidon\n",
    "pyposeidon.__version__"
   ]
  },
  {
   "cell_type": "code",
   "execution_count": null,
   "id": "bccddb49",
   "metadata": {},
   "outputs": [],
   "source": [
    "import pyposeidon.model as pm"
   ]
  },
  {
   "cell_type": "markdown",
   "id": "0fad84b5",
   "metadata": {},
   "source": [
    "### Graphics"
   ]
  },
  {
   "cell_type": "code",
   "execution_count": null,
   "id": "01f92b66",
   "metadata": {},
   "outputs": [],
   "source": [
    "import pyposeidon.utils.pplot # initialize matplolib accessor"
   ]
  },
  {
   "cell_type": "code",
   "execution_count": null,
   "id": "f0419f0c",
   "metadata": {},
   "outputs": [],
   "source": [
    "## for interactive matplotlib graphics\n",
    "%matplotlib widget "
   ]
  },
  {
   "cell_type": "code",
   "execution_count": null,
   "id": "f368c507",
   "metadata": {},
   "outputs": [],
   "source": [
    "import matplotlib.pyplot as plt"
   ]
  },
  {
   "cell_type": "code",
   "execution_count": null,
   "id": "f6201af5",
   "metadata": {},
   "outputs": [],
   "source": [
    "#optional\n",
    "#pyposeidon.utils.pplot.__init__(dark_background=True) # set plt style for pplot graphics below"
   ]
  },
  {
   "cell_type": "code",
   "execution_count": null,
   "id": "9aa61a86",
   "metadata": {},
   "outputs": [],
   "source": [
    "import pyposeidon.utils.hplot # initialize pyviz accessor"
   ]
  },
  {
   "cell_type": "markdown",
   "id": "6c7b8153",
   "metadata": {},
   "source": [
    "- In order to have within the Notebook the executable binaries installed in the conda env of the Kernel we add the corresponding path to the env PATH. This is not needed when we are running from python."
   ]
  },
  {
   "cell_type": "code",
   "execution_count": null,
   "id": "530cdf04",
   "metadata": {},
   "outputs": [],
   "source": [
    "#Create a folder to save the output\n",
    "import os\n",
    "if not os.path.exists('test'):\n",
    "            os.makedirs('test')"
   ]
  },
  {
   "cell_type": "code",
   "execution_count": null,
   "id": "c2476995",
   "metadata": {},
   "outputs": [],
   "source": [
    "import numpy\n",
    "cpath = numpy.__path__[0].split('/lib/')[0] # get the current kernel path\n",
    "\n",
    "os.environ['PATH'] += os.pathsep + cpath + '/bin' # add to PATH"
   ]
  },
  {
   "cell_type": "code",
   "execution_count": null,
   "id": "8aa631c2",
   "metadata": {},
   "outputs": [],
   "source": [
    "# use cartopy to get coastlines\n",
    "import cartopy.feature as cf\n",
    "\n",
    "cr='i'\n",
    "\n",
    "coast = cf.NaturalEarthFeature(\n",
    "    category='physical',\n",
    "    name='land',\n",
    "    scale='{}m'.format({'l':110, 'i':50, 'h':10}[cr]))"
   ]
  },
  {
   "cell_type": "code",
   "execution_count": null,
   "id": "3922cf18",
   "metadata": {},
   "outputs": [],
   "source": [
    "import geopandas as gp\n",
    "ne_i = gp.GeoDataFrame(geometry = [x for x in coast.geometries()])"
   ]
  },
  {
   "cell_type": "markdown",
   "id": "f2c73b71",
   "metadata": {},
   "source": [
    "## Setup"
   ]
  },
  {
   "cell_type": "markdown",
   "id": "6b476c48",
   "metadata": {},
   "source": [
    "Station info can be incorporated by using the obs tag with the minimum required info being the lon/lan location. One needs to set to True the monitor flag as well."
   ]
  },
  {
   "cell_type": "markdown",
   "id": "3c65cc17",
   "metadata": {},
   "source": [
    "Such a file could look like"
   ]
  },
  {
   "cell_type": "code",
   "execution_count": null,
   "id": "81eb0844",
   "metadata": {},
   "outputs": [],
   "source": [
    "import pandas as pd"
   ]
  },
  {
   "cell_type": "code",
   "execution_count": null,
   "id": "5ff83552",
   "metadata": {},
   "outputs": [],
   "source": [
    "st = pd.DataFrame([[ 70.484, -21.962],[ 64.15 , -21.933]], columns=['lat','lon'])\n",
    "st"
   ]
  },
  {
   "cell_type": "code",
   "execution_count": null,
   "id": "6b716c65",
   "metadata": {},
   "outputs": [],
   "source": [
    "#save it to file\n",
    "st.to_csv('./test/stations.csv')"
   ]
  },
  {
   "cell_type": "markdown",
   "id": "3351b9ec",
   "metadata": {},
   "source": [
    "### A better way"
   ]
  },
  {
   "cell_type": "markdown",
   "id": "2e2b76b0",
   "metadata": {},
   "source": [
    "However these station location should match datasets where observation data are available. One such dataset is the one provided by JRC at https://webcritech.jrc.ec.europa.eu/SeaLevelsDb/"
   ]
  },
  {
   "cell_type": "markdown",
   "id": "e4542a3f",
   "metadata": {},
   "source": [
    "This DataFrame is integrated in pyPoseidon. See critech.csv in pyposeidon/misc/."
   ]
  },
  {
   "cell_type": "code",
   "execution_count": null,
   "id": "fb907b2f",
   "metadata": {},
   "outputs": [],
   "source": [
    "critech = pd.read_csv('../pyposeidon/misc/critech.csv')\n",
    "critech.head()"
   ]
  },
  {
   "cell_type": "markdown",
   "id": "3a25ce2c",
   "metadata": {},
   "source": [
    "The above Dataset is currently the default. You can use this one if you don't specify an *obs* in the model setup (see above). Now running the same case with *obs* commented out, we get.."
   ]
  },
  {
   "cell_type": "markdown",
   "id": "ad313b3b",
   "metadata": {},
   "source": [
    "**Note** : It is foreseen that a new python package will handle observation data from multiple sources including data cleanup utilizing ML. pyPoseidon will then use that package as an upstream dependency."
   ]
  },
  {
   "cell_type": "code",
   "execution_count": null,
   "id": "dfd32097",
   "metadata": {},
   "outputs": [],
   "source": [
    "#define in a dictionary the properties of the model..\n",
    "model={'solver':'schism',\n",
    "     'geometry':{'lon_min' : -25,'lon_max' : -12.,'lat_min' : 56.,'lat_max' : 74.}, \n",
    "#     'manning':.12, #uniform manning value\n",
    "#     'windrot':0.00001, #uniform windrot value\n",
    "#     'tag':'schism', # optional tag \n",
    "     'coastlines':ne_i, # coastlines\n",
    "     'mesh_generator' : 'jigsaw', # set grid generator  \n",
    "     'start_date':'2017-10-1 0:0:0',\n",
    "     'time_frame':'12H',\n",
    "     'meteo_source' : './data/erai.grib', #path to meteo files\n",
    "     'dem_source' : './data/dem.nc', #path to dem file\n",
    "#     'ncores': 4 , # optional number of cores\n",
    "     'rpath':'./test/validation/', #location of calc folder\n",
    "#     'update':['all'], #set which component should be updated  (meteo,dem,model)\n",
    "     'monitor':True, # get time series for observation points\n",
    "#     'obs':'./test/stations.csv', #Define station locations. If not set, pyposeidon/misc/critech.csv is used.\n",
    "#     'parameters':{'dt':400, 'rnday':.5, 'hotout':1, 'ihot':0,'nspool':9, 'ihfskip':36, 'hotout_write':108 } # set param.in components\n",
    "    }"
   ]
  },
  {
   "cell_type": "markdown",
   "id": "7667264a",
   "metadata": {},
   "source": [
    "## Execute\n"
   ]
  },
  {
   "cell_type": "code",
   "execution_count": null,
   "id": "dd11b37e",
   "metadata": {},
   "outputs": [],
   "source": [
    "#initialize a model\n",
    "b = pm.set(**model)\n",
    "b.execute()"
   ]
  },
  {
   "cell_type": "markdown",
   "id": "b53638e7",
   "metadata": {},
   "source": [
    "## Output"
   ]
  },
  {
   "cell_type": "markdown",
   "id": "d6a6442f",
   "metadata": {},
   "source": [
    "The output of the simulations could be in separate files (due to MPI) or specific folders. pyposeidon can incorporate the resulting Datasets with "
   ]
  },
  {
   "cell_type": "code",
   "execution_count": null,
   "id": "9321a0ea",
   "metadata": {},
   "outputs": [],
   "source": [
    "b.get_output_data()"
   ]
  },
  {
   "cell_type": "code",
   "execution_count": null,
   "id": "2472324c",
   "metadata": {},
   "outputs": [],
   "source": [
    "out = b.data.Dataset"
   ]
  },
  {
   "cell_type": "code",
   "execution_count": null,
   "id": "748990e5",
   "metadata": {},
   "outputs": [],
   "source": [
    "out"
   ]
  },
  {
   "cell_type": "markdown",
   "id": "2b85079b",
   "metadata": {},
   "source": [
    "## Station data"
   ]
  },
  {
   "cell_type": "code",
   "execution_count": null,
   "id": "040e57f1",
   "metadata": {},
   "outputs": [],
   "source": [
    "b.data.time_series # the station data in xarray Dataset"
   ]
  },
  {
   "cell_type": "code",
   "execution_count": null,
   "id": "0720593c",
   "metadata": {},
   "outputs": [],
   "source": [
    "b.data.time_series.to_dataframe()"
   ]
  },
  {
   "cell_type": "code",
   "execution_count": null,
   "id": "d799d0d1",
   "metadata": {},
   "outputs": [],
   "source": [
    "b.stations"
   ]
  },
  {
   "cell_type": "code",
   "execution_count": null,
   "id": "5cc76f76",
   "metadata": {},
   "outputs": [],
   "source": [
    "# one can assign the names of locations like..\n",
    "sim = b.data.time_series.rename({'node':'location'})\n",
    "sim['location'] = b.stations.name.values\n",
    "sim"
   ]
  },
  {
   "cell_type": "code",
   "execution_count": null,
   "id": "ed020630",
   "metadata": {},
   "outputs": [],
   "source": [
    "sim.to_dataframe() # easily convert to pandas dataframe "
   ]
  },
  {
   "cell_type": "markdown",
   "id": "736c3193",
   "metadata": {},
   "source": [
    "### plot"
   ]
  },
  {
   "cell_type": "code",
   "execution_count": null,
   "id": "014167e4",
   "metadata": {},
   "outputs": [],
   "source": [
    "plt.figure()\n",
    "sim.elev.isel(location=0).plot()"
   ]
  },
  {
   "cell_type": "markdown",
   "id": "73ef985a",
   "metadata": {},
   "source": [
    "### Observation data"
   ]
  },
  {
   "cell_type": "markdown",
   "id": "510e6a60",
   "metadata": {},
   "source": [
    "Because we've access to an API for the tide-gauge data we can retrieve them on-demand."
   ]
  },
  {
   "cell_type": "code",
   "execution_count": null,
   "id": "efffd3de",
   "metadata": {},
   "outputs": [],
   "source": [
    "b.obs.locations"
   ]
  },
  {
   "cell_type": "code",
   "execution_count": null,
   "id": "26ebab08",
   "metadata": {},
   "outputs": [],
   "source": [
    "# Get with index number\n",
    "p = b.obs.iloc(1)\n",
    "p.head()"
   ]
  },
  {
   "cell_type": "code",
   "execution_count": null,
   "id": "564101a5",
   "metadata": {},
   "outputs": [],
   "source": [
    "#get with Station Name  \n",
    "p = b.obs.loc('Iceland-Reykjavik')\n",
    "p.head()"
   ]
  },
  {
   "cell_type": "code",
   "execution_count": null,
   "id": "b4ecdb57",
   "metadata": {},
   "outputs": [],
   "source": [
    "p.plot(title='Iceland-Reykjavik')"
   ]
  },
  {
   "cell_type": "markdown",
   "id": "8ef790a3",
   "metadata": {},
   "source": [
    "### Plot together"
   ]
  },
  {
   "cell_type": "code",
   "execution_count": null,
   "id": "bab2d9ef",
   "metadata": {},
   "outputs": [],
   "source": [
    "loc='Iceland-Reykjavik' # change accordingly \n",
    "plt.figure()\n",
    "sim.sel(location=loc).elev.plot(color='r')\n",
    "ap = plt.gca()\n",
    "p.plot(ax=ap)\n",
    "ap.legend(['Schism'] + list(p.columns.values) , loc='center left',bbox_to_anchor=(1.0, 0.5))\n",
    "plt.tight_layout()"
   ]
  },
  {
   "cell_type": "markdown",
   "id": "2958b66d",
   "metadata": {},
   "source": [
    "... or with hvplot"
   ]
  },
  {
   "cell_type": "code",
   "execution_count": null,
   "id": "7da3b09a",
   "metadata": {},
   "outputs": [],
   "source": [
    "from hvplot import xarray, pandas"
   ]
  },
  {
   "cell_type": "code",
   "execution_count": null,
   "id": "c2b5c5a0",
   "metadata": {},
   "outputs": [],
   "source": [
    "## Join the graphs\n",
    "p.hvplot(figsize=(14,10)) * sim.elev.sel(location=loc).hvplot(color='red',label='Schism')"
   ]
  },
  {
   "cell_type": "markdown",
   "id": "5b37f226",
   "metadata": {},
   "source": [
    "### Statistics"
   ]
  },
  {
   "cell_type": "code",
   "execution_count": null,
   "id": "8f5c2375",
   "metadata": {},
   "outputs": [],
   "source": [
    "sdata=sim.elev.sel(location=loc).to_dataframe().drop('location',axis=1)\n",
    "sdata"
   ]
  },
  {
   "cell_type": "code",
   "execution_count": null,
   "id": "f5bad6da",
   "metadata": {},
   "outputs": [],
   "source": [
    "odata=b.obs.loc(loc).loc[:,['Surge']]\n",
    "odata"
   ]
  },
  {
   "cell_type": "markdown",
   "id": "591c977d",
   "metadata": {},
   "source": [
    "We use the corresponding utility for getting verification stats"
   ]
  },
  {
   "cell_type": "code",
   "execution_count": null,
   "id": "027d6963",
   "metadata": {},
   "outputs": [],
   "source": [
    "from pyposeidon.utils.statistics import get_stats"
   ]
  },
  {
   "cell_type": "code",
   "execution_count": null,
   "id": "78a0f981",
   "metadata": {},
   "outputs": [],
   "source": [
    "stats = get_stats(sdata,odata)\n",
    "stats"
   ]
  },
  {
   "cell_type": "markdown",
   "id": "dd56032c",
   "metadata": {},
   "source": [
    "## Additional features"
   ]
  },
  {
   "cell_type": "markdown",
   "id": "dec10876",
   "metadata": {},
   "source": [
    "### sample nearest point from simulation "
   ]
  },
  {
   "cell_type": "code",
   "execution_count": null,
   "id": "26fffd38",
   "metadata": {},
   "outputs": [],
   "source": [
    "from pyposeidon.utils.get_ts import spot"
   ]
  },
  {
   "cell_type": "code",
   "execution_count": null,
   "id": "c3026117",
   "metadata": {},
   "outputs": [],
   "source": [
    "plat, plon = 66., -13."
   ]
  },
  {
   "cell_type": "code",
   "execution_count": null,
   "id": "464bf3e7",
   "metadata": {},
   "outputs": [],
   "source": [
    "tp = spot(solver = 'schism', lon=plon,lat=plat,dataset=out, var='elev')\n",
    "tp.time_series.head()"
   ]
  },
  {
   "cell_type": "markdown",
   "id": "e87b447c",
   "metadata": {},
   "source": [
    "**Note**: Since a pandas dataframe is available all sampling option within pandas can be used."
   ]
  }
 ],
 "metadata": {
  "kernelspec": {
   "display_name": "pyPoseidon",
   "language": "python",
   "name": "pyposeidon"
  },
  "language_info": {
   "codemirror_mode": {
    "name": "ipython",
    "version": 3
   },
   "file_extension": ".py",
   "mimetype": "text/x-python",
   "name": "python",
   "nbconvert_exporter": "python",
   "pygments_lexer": "ipython3",
   "version": "3.8.12"
  }
 },
 "nbformat": 4,
 "nbformat_minor": 5
}
