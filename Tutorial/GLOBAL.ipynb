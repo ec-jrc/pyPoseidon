{
 "cells": [
  {
   "cell_type": "markdown",
   "id": "2f13f15e",
   "metadata": {},
   "source": [
    "# Global Mesh"
   ]
  },
  {
   "cell_type": "markdown",
   "id": "c2f5b950",
   "metadata": {},
   "source": [
    "This Notebook presents the workflow for developing global meshes. \n",
    "\n",
    "\n",
    "- Requires:\n",
    "\n",
    "    - The data folder. See [README](README.md) in this folder."
   ]
  },
  {
   "cell_type": "code",
   "execution_count": null,
   "id": "458eb029",
   "metadata": {},
   "outputs": [],
   "source": [
    "#to use the full width of the browser window\n",
    "from IPython.display import display, HTML\n",
    "display(HTML(\"<style>.container { width:100% !important; }</style>\"))"
   ]
  },
  {
   "cell_type": "code",
   "execution_count": null,
   "id": "32c20feb",
   "metadata": {},
   "outputs": [],
   "source": [
    "# Not neccessarily needed. Just to check version. Must be >= 0.6\n",
    "import pyposeidon\n",
    "pyposeidon.__version__"
   ]
  },
  {
   "cell_type": "code",
   "execution_count": null,
   "id": "ca3f40ea",
   "metadata": {},
   "outputs": [],
   "source": [
    "import pyposeidon.mesh as pmesh"
   ]
  },
  {
   "cell_type": "markdown",
   "id": "14b7d3b1",
   "metadata": {},
   "source": [
    "### Graphics"
   ]
  },
  {
   "cell_type": "code",
   "execution_count": null,
   "id": "163aa993",
   "metadata": {},
   "outputs": [],
   "source": [
    "import pyposeidon.utils.pplot"
   ]
  },
  {
   "cell_type": "code",
   "execution_count": null,
   "id": "d6be2261",
   "metadata": {},
   "outputs": [],
   "source": [
    "import pyposeidon.utils.mplot"
   ]
  },
  {
   "cell_type": "code",
   "execution_count": null,
   "id": "d36986d1",
   "metadata": {},
   "outputs": [],
   "source": [
    "#import pyposeidon.utils.hplot"
   ]
  },
  {
   "cell_type": "code",
   "execution_count": null,
   "id": "45259749",
   "metadata": {},
   "outputs": [],
   "source": [
    "import matplotlib.pyplot as plt"
   ]
  },
  {
   "cell_type": "code",
   "execution_count": null,
   "id": "d8345c26",
   "metadata": {},
   "outputs": [],
   "source": [
    "import matplotlib as mpl\n",
    "mpl.rcParams['agg.path.chunksize'] = 10000"
   ]
  },
  {
   "cell_type": "code",
   "execution_count": null,
   "id": "ba1cb82f",
   "metadata": {},
   "outputs": [],
   "source": [
    "#optional\n",
    "#pyposeidon.utils.pplot.__init__(dark_background=True) # set plt style for pplot graphics below"
   ]
  },
  {
   "cell_type": "code",
   "execution_count": null,
   "id": "6b3707b9",
   "metadata": {},
   "outputs": [],
   "source": [
    "#optional\n",
    "#plt.style.use('dark_background')"
   ]
  },
  {
   "cell_type": "code",
   "execution_count": null,
   "id": "a5723f54",
   "metadata": {},
   "outputs": [],
   "source": [
    "%matplotlib widget"
   ]
  },
  {
   "cell_type": "code",
   "execution_count": null,
   "id": "3a1caccd",
   "metadata": {},
   "outputs": [],
   "source": [
    "#Create a folder to save the output\n",
    "import os\n",
    "if not os.path.exists('test'):\n",
    "            os.makedirs('test')"
   ]
  },
  {
   "cell_type": "markdown",
   "id": "3d154549",
   "metadata": {},
   "source": [
    "- In order to have within the Notebook the executable binaries installed in the conda env of the Kernel we add the corresponding path to the env `PATH`. This is not needed when we are running from python."
   ]
  },
  {
   "cell_type": "code",
   "execution_count": null,
   "id": "84a66275",
   "metadata": {},
   "outputs": [],
   "source": [
    "import numpy as np\n",
    "cpath = np.__path__[0].split('/lib/')[0] # get the current kernel path\n",
    "\n",
    "os.environ['PATH'] += os.pathsep + cpath + '/bin' # add to PATH"
   ]
  },
  {
   "cell_type": "markdown",
   "id": "7e089df1",
   "metadata": {},
   "source": [
    "## Setup"
   ]
  },
  {
   "cell_type": "markdown",
   "id": "97e8419a",
   "metadata": {},
   "source": [
    "The minimum information required is the corresponding coastlines. They can be in a form that `geopandas` can read or in a `GeoDataFrame`."
   ]
  },
  {
   "cell_type": "code",
   "execution_count": null,
   "id": "c2b240ae",
   "metadata": {},
   "outputs": [],
   "source": [
    "import geopandas as gp"
   ]
  },
  {
   "cell_type": "code",
   "execution_count": null,
   "id": "713993c1",
   "metadata": {},
   "outputs": [],
   "source": [
    "w = gp.read_file('./data/ocean/ocean.shp')"
   ]
  },
  {
   "cell_type": "code",
   "execution_count": null,
   "id": "9a5862fd",
   "metadata": {},
   "outputs": [],
   "source": [
    "w.plot()"
   ]
  },
  {
   "cell_type": "markdown",
   "id": "674a80b8",
   "metadata": {},
   "source": [
    "We define \"areametry\" as \"global\" and the engine for grid generation ('jigsaw' or 'gmsh').\n",
    "\n",
    "*Note*: There is no default and the user needs to specify one."
   ]
  },
  {
   "cell_type": "code",
   "execution_count": null,
   "id": "fefbd0be",
   "metadata": {},
   "outputs": [],
   "source": [
    "mesh = pmesh.set(type='tri2d', geometry='global', coastlines = w, mesh_generator = 'gmsh', rpath='./test/global/' \n",
    "               ,use_bindings=True, #set this to False for gmsh binary\n",
    "              )"
   ]
  },
  {
   "cell_type": "code",
   "execution_count": null,
   "id": "7cc6baf2",
   "metadata": {},
   "outputs": [],
   "source": [
    "mesh.Dataset"
   ]
  },
  {
   "cell_type": "markdown",
   "id": "7fc55c3a",
   "metadata": {},
   "source": [
    "**TIP** : You can change the grid generator above with  grid_generator = 'gmsh'."
   ]
  },
  {
   "cell_type": "markdown",
   "id": "dc460731",
   "metadata": {},
   "source": [
    "## Visualize"
   ]
  },
  {
   "cell_type": "markdown",
   "id": "52c65942",
   "metadata": {
    "tags": []
   },
   "source": [
    "- with mayavi/pyvista in 3D"
   ]
  },
  {
   "cell_type": "code",
   "execution_count": null,
   "id": "ef0cbe84",
   "metadata": {},
   "outputs": [],
   "source": [
    "mesh.Dataset.mplot.mesh(dim='3D')"
   ]
  },
  {
   "cell_type": "markdown",
   "id": "2cd8cd9b",
   "metadata": {},
   "source": [
    "## Control mesh size"
   ]
  },
  {
   "cell_type": "markdown",
   "id": "3b37cd42",
   "metadata": {},
   "source": [
    "Better control on the mesh size can be obtained by providing a background control function usually in the form of a scaled DEM. One way to achieve this is to give as argument a dem file, like : "
   ]
  },
  {
   "cell_type": "code",
   "execution_count": null,
   "id": "726d2b8c",
   "metadata": {},
   "outputs": [],
   "source": [
    "mesh = pmesh.set(type='tri2d', geometry='global', coastlines = w, mesh_generator = 'gmsh', \n",
    "                rpath = './test/global/',\n",
    "                dem_source='./data/dem.nc', \n",
    "                resolution_min=0.001, resolution_max=.03,\n",
    "                use_bindings=False, #set this to True for gmsh python bindings\n",
    "               DistMin=.0, DistMax=.1, SizeMin=.005, SizeMax=.02, MeshSizeMin=.001,MeshSizeMax=0.05, # GMSH additional settings\n",
    "              )"
   ]
  },
  {
   "cell_type": "code",
   "execution_count": null,
   "id": "edd19989",
   "metadata": {},
   "outputs": [],
   "source": [
    "mesh.boundary.contours.plot()"
   ]
  },
  {
   "cell_type": "code",
   "execution_count": null,
   "id": "6eb53692",
   "metadata": {},
   "outputs": [],
   "source": [
    "mesh.bgmesh.pplot.mesh()"
   ]
  },
  {
   "cell_type": "code",
   "execution_count": null,
   "id": "017c0fc6",
   "metadata": {},
   "outputs": [],
   "source": [
    "mesh.bgmesh.pplot.contourf(var='h')"
   ]
  },
  {
   "cell_type": "code",
   "execution_count": null,
   "id": "feff1c38",
   "metadata": {},
   "outputs": [],
   "source": [
    "mesh.Dataset.mplot.mesh(dim='3D')"
   ]
  },
  {
   "cell_type": "code",
   "execution_count": null,
   "id": "6392d720",
   "metadata": {},
   "outputs": [],
   "source": [
    "mesh.Dataset"
   ]
  },
  {
   "cell_type": "markdown",
   "id": "2004df45",
   "metadata": {},
   "source": [
    "**TIP** : Change the grid generator above with  grid_generator = 'jigsaw' to see how `jigsaw` would do it."
   ]
  },
  {
   "cell_type": "markdown",
   "id": "67151088",
   "metadata": {},
   "source": [
    "## Output"
   ]
  },
  {
   "cell_type": "code",
   "execution_count": null,
   "id": "88534066",
   "metadata": {},
   "outputs": [],
   "source": [
    "mesh.to_file('./test/global/hgrid.gr3')"
   ]
  },
  {
   "cell_type": "markdown",
   "id": "330701e4",
   "metadata": {},
   "source": [
    "## Read a given grid"
   ]
  },
  {
   "cell_type": "code",
   "execution_count": null,
   "id": "b90bf69d",
   "metadata": {},
   "outputs": [],
   "source": [
    "m = pmesh.set(type='tri2d',mesh_file='./test/global/hgrid.gr3')"
   ]
  },
  {
   "cell_type": "markdown",
   "id": "270a2f66",
   "metadata": {},
   "source": [
    "### Mesh Validation"
   ]
  },
  {
   "cell_type": "markdown",
   "id": "f8be8067",
   "metadata": {},
   "source": [
    "If you model is SCHISM, the mesh can be validated against it as "
   ]
  },
  {
   "cell_type": "code",
   "execution_count": null,
   "id": "28e4094b",
   "metadata": {},
   "outputs": [],
   "source": [
    "m.validate(rpath='./test/global/val/')"
   ]
  },
  {
   "cell_type": "markdown",
   "id": "f45503a2",
   "metadata": {},
   "source": [
    "### Grid Verification"
   ]
  },
  {
   "cell_type": "markdown",
   "id": "7abc85fe",
   "metadata": {},
   "source": [
    "The grid is created with a specific boundary defined, usually, as a coastline. In order to check whether that coastline is crossed by the generated grid we can use :"
   ]
  },
  {
   "cell_type": "code",
   "execution_count": null,
   "id": "6833c93a",
   "metadata": {},
   "outputs": [],
   "source": [
    "mesh.verify(coastlines=w)"
   ]
  },
  {
   "cell_type": "markdown",
   "id": "535657b6",
   "metadata": {},
   "source": [
    "*Note* : This is still under development and there is no distiction between 'intersection' and 'touch' for the grid. That is, the nodes could very well be **on** the boundary as they should. "
   ]
  }
 ],
 "metadata": {
  "kernelspec": {
   "display_name": "pyPoseidon",
   "language": "python",
   "name": "pyposeidon"
  },
  "language_info": {
   "codemirror_mode": {
    "name": "ipython",
    "version": 3
   },
   "file_extension": ".py",
   "mimetype": "text/x-python",
   "name": "python",
   "nbconvert_exporter": "python",
   "pygments_lexer": "ipython3",
   "version": "3.8.12"
  }
 },
 "nbformat": 4,
 "nbformat_minor": 5
}
