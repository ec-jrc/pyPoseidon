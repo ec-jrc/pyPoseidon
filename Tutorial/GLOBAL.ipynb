{
 "cells": [
  {
   "cell_type": "markdown",
   "id": "b0c7e19e",
   "metadata": {},
   "source": [
    "# Global Mesh"
   ]
  },
  {
   "cell_type": "markdown",
   "id": "1090d884",
   "metadata": {},
   "source": [
    "This Notebook presents the workflow for developing global meshes. \n",
    "\n",
    "\n",
    "- Requires:\n",
    "\n",
    "    - The data folder. See [README](README.md) in this folder."
   ]
  },
  {
   "cell_type": "code",
   "execution_count": null,
   "id": "dbaa18dc",
   "metadata": {},
   "outputs": [],
   "source": [
    "#to use the full width of the browser window\n",
    "from IPython.core.display import display, HTML\n",
    "display(HTML(\"<style>.container { width:100% !important; }</style>\"))"
   ]
  },
  {
   "cell_type": "code",
   "execution_count": null,
   "id": "67974100",
   "metadata": {},
   "outputs": [],
   "source": [
    "# Not neccessarily needed. Just to check version. Must be >= 0.6\n",
    "import pyposeidon\n",
    "pyposeidon.__version__"
   ]
  },
  {
   "cell_type": "code",
   "execution_count": null,
   "id": "b15dc2fa",
   "metadata": {},
   "outputs": [],
   "source": [
    "import pyposeidon.mesh as pmesh"
   ]
  },
  {
   "cell_type": "markdown",
   "id": "79af58ac",
   "metadata": {},
   "source": [
    "### Graphics"
   ]
  },
  {
   "cell_type": "code",
   "execution_count": null,
   "id": "fb11a952",
   "metadata": {},
   "outputs": [],
   "source": [
    "import pyposeidon.utils.pplot"
   ]
  },
  {
   "cell_type": "code",
   "execution_count": null,
   "id": "623743a4",
   "metadata": {},
   "outputs": [],
   "source": [
    "import pyposeidon.utils.mplot"
   ]
  },
  {
   "cell_type": "code",
   "execution_count": null,
   "id": "0158e3e9",
   "metadata": {},
   "outputs": [],
   "source": [
    "#import pyposeidon.utils.hplot"
   ]
  },
  {
   "cell_type": "code",
   "execution_count": null,
   "id": "0424e5b0",
   "metadata": {},
   "outputs": [],
   "source": [
    "import matplotlib.pyplot as plt"
   ]
  },
  {
   "cell_type": "code",
   "execution_count": null,
   "id": "50c1be44",
   "metadata": {},
   "outputs": [],
   "source": [
    "import matplotlib as mpl\n",
    "mpl.rcParams['agg.path.chunksize'] = 10000"
   ]
  },
  {
   "cell_type": "code",
   "execution_count": null,
   "id": "d7c86474",
   "metadata": {},
   "outputs": [],
   "source": [
    "#optional\n",
    "#pyposeidon.utils.pplot.__init__(dark_background=True) # set plt style for pplot graphics below"
   ]
  },
  {
   "cell_type": "code",
   "execution_count": null,
   "id": "f2c06559",
   "metadata": {},
   "outputs": [],
   "source": [
    "#optional\n",
    "#plt.style.use('dark_background')"
   ]
  },
  {
   "cell_type": "code",
   "execution_count": null,
   "id": "eb7c6980",
   "metadata": {},
   "outputs": [],
   "source": [
    "%matplotlib widget"
   ]
  },
  {
   "cell_type": "code",
   "execution_count": null,
   "id": "13f1d72a",
   "metadata": {},
   "outputs": [],
   "source": [
    "#Create a folder to save the output\n",
    "import os\n",
    "if not os.path.exists('test'):\n",
    "            os.makedirs('test')"
   ]
  },
  {
   "cell_type": "markdown",
   "id": "4dd1cd16",
   "metadata": {},
   "source": [
    "- In order to have within the Notebook the executable binaries installed in the conda env of the Kernel we add the corresponding path to the env PATH. This is not needed when we are running from python."
   ]
  },
  {
   "cell_type": "code",
   "execution_count": null,
   "id": "ccd285f3",
   "metadata": {},
   "outputs": [],
   "source": [
    "import numpy as np\n",
    "cpath = np.__path__[0].split('/lib/')[0] # get the current kernel path\n",
    "\n",
    "os.environ['PATH'] += os.pathsep + cpath + '/bin' # add to PATH"
   ]
  },
  {
   "cell_type": "markdown",
   "id": "600aa36f",
   "metadata": {},
   "source": [
    "## Setup"
   ]
  },
  {
   "cell_type": "markdown",
   "id": "f1e56cfd",
   "metadata": {},
   "source": [
    "The minimum information required is the corresponding coastlines. They can be in a form that Geopandas can read or in a GeoDataFrame."
   ]
  },
  {
   "cell_type": "code",
   "execution_count": null,
   "id": "91ef8dc8",
   "metadata": {},
   "outputs": [],
   "source": [
    "import geopandas as gp"
   ]
  },
  {
   "cell_type": "code",
   "execution_count": null,
   "id": "0610888e",
   "metadata": {},
   "outputs": [],
   "source": [
    "w = gp.read_file('./data/ocean.zip')"
   ]
  },
  {
   "cell_type": "code",
   "execution_count": null,
   "id": "5054703e",
   "metadata": {},
   "outputs": [],
   "source": [
    "w.plot()"
   ]
  },
  {
   "cell_type": "markdown",
   "id": "2cb3b3d4",
   "metadata": {},
   "source": [
    "We define \"geometry\" as \"global\" and the engine for grid generation ('jigsaw' or 'gmsh').\n",
    "\n",
    "*Note*: There is no default and the user needs to specify one."
   ]
  },
  {
   "cell_type": "code",
   "execution_count": null,
   "id": "6f55740d",
   "metadata": {},
   "outputs": [],
   "source": [
    "mesh = pmesh.set(type='tri2d', geometry='global', coastlines = w, mesh_generator = 'jigsaw', rpath='./test/global/' \n",
    "               ,use_bindings=True, #set this to False for gmsh binary\n",
    "              )"
   ]
  },
  {
   "cell_type": "code",
   "execution_count": null,
   "id": "cfc0264d",
   "metadata": {},
   "outputs": [],
   "source": [
    "mesh.Dataset"
   ]
  },
  {
   "cell_type": "markdown",
   "id": "87c0b113",
   "metadata": {},
   "source": [
    "**TIP** : You can change the grid generator above with  grid_generator = 'gmsh'."
   ]
  },
  {
   "cell_type": "markdown",
   "id": "f6565ae3",
   "metadata": {},
   "source": [
    "## Visualize"
   ]
  },
  {
   "cell_type": "markdown",
   "id": "0f19f957",
   "metadata": {
    "tags": []
   },
   "source": [
    "- with mayavi/pyvista in 3D"
   ]
  },
  {
   "cell_type": "code",
   "execution_count": null,
   "id": "b20b8755",
   "metadata": {},
   "outputs": [],
   "source": [
    "mesh.Dataset.mplot.mesh(dim='3D')"
   ]
  },
  {
   "cell_type": "markdown",
   "id": "bb9df9bd",
   "metadata": {},
   "source": [
    "## Control mesh size"
   ]
  },
  {
   "cell_type": "markdown",
   "id": "42cf4fe9",
   "metadata": {},
   "source": [
    "Better control on the mesh size can be obtained by providing a background control function usually in the form of a scaled DEM. One way to achieve this is to give as argument a dem file, like : "
   ]
  },
  {
   "cell_type": "code",
   "execution_count": null,
   "id": "49c3c57f",
   "metadata": {},
   "outputs": [],
   "source": [
    "mesh = pmesh.set(type='tri2d', geometry='global', coastlines = w, mesh_generator = 'jigsaw', \n",
    "                rpath = './test/global/',\n",
    "                dem_source='./data/dem.nc', \n",
    "                resolution_min=0.01, resolution_max=.05,\n",
    "               use_bindings=True, #set this to False for gmsh binary\n",
    "#               DistMin=.0, DistMax=.1, SizeMin=.005, SizeMax=.02, MeshSizeMin=.001,MeshSizeMax=0.05, # GMSH additional settings\n",
    "              )"
   ]
  },
  {
   "cell_type": "code",
   "execution_count": null,
   "id": "80d65b07",
   "metadata": {},
   "outputs": [],
   "source": [
    "mesh.boundary.contours.plot()"
   ]
  },
  {
   "cell_type": "code",
   "execution_count": null,
   "id": "1a3d624b",
   "metadata": {},
   "outputs": [],
   "source": [
    "mesh.bgmesh.pplot.mesh(lw=.5, markersize=.0)"
   ]
  },
  {
   "cell_type": "code",
   "execution_count": null,
   "id": "66e3fa51",
   "metadata": {},
   "outputs": [],
   "source": [
    "mesh.bgmesh.pplot.contourf(var='h')"
   ]
  },
  {
   "cell_type": "code",
   "execution_count": null,
   "id": "ffc33c8c",
   "metadata": {},
   "outputs": [],
   "source": [
    "mesh.Dataset.mplot.mesh(dim='3D')"
   ]
  },
  {
   "cell_type": "markdown",
   "id": "7db46dca",
   "metadata": {},
   "source": [
    "**TIP** : Change the grid generator above with  grid_generator = 'gmsh' to see how gmsh would do it."
   ]
  },
  {
   "cell_type": "markdown",
   "id": "d30896cc",
   "metadata": {},
   "source": [
    "## Output"
   ]
  },
  {
   "cell_type": "code",
   "execution_count": null,
   "id": "87f018d6",
   "metadata": {},
   "outputs": [],
   "source": [
    "mesh.to_file('./test/global/hgrid.gr3')"
   ]
  },
  {
   "cell_type": "markdown",
   "id": "139e5ae4",
   "metadata": {},
   "source": [
    "## Read a given grid"
   ]
  },
  {
   "cell_type": "code",
   "execution_count": null,
   "id": "38abe231",
   "metadata": {},
   "outputs": [],
   "source": [
    "m = pmesh.set(type='tri2d',mesh_file='./test/global/hgrid.gr3')"
   ]
  },
  {
   "cell_type": "markdown",
   "id": "30b7edbc",
   "metadata": {},
   "source": [
    "### Mesh Validation"
   ]
  },
  {
   "cell_type": "markdown",
   "id": "528b3f86",
   "metadata": {},
   "source": [
    "If you model is SCHISM, the mesh can be validated against it as "
   ]
  },
  {
   "cell_type": "code",
   "execution_count": null,
   "id": "074fda77",
   "metadata": {},
   "outputs": [],
   "source": [
    "m.validate(rpath='./test/global/val/')"
   ]
  },
  {
   "cell_type": "markdown",
   "id": "d051dfa2",
   "metadata": {},
   "source": [
    "### Grid Verification"
   ]
  },
  {
   "cell_type": "markdown",
   "id": "c3488749",
   "metadata": {},
   "source": [
    "The grid is created with a specific boundary defined, usually, as a coastline. In order to check whether that coastline is crossed by the generated grid we can use :"
   ]
  },
  {
   "cell_type": "code",
   "execution_count": null,
   "id": "7998c43e",
   "metadata": {},
   "outputs": [],
   "source": [
    "mesh.verify(coastlines=w)"
   ]
  },
  {
   "cell_type": "markdown",
   "id": "47cdd79f",
   "metadata": {},
   "source": [
    "*Note* : This is still under development and there is no distiction between 'intersection' and 'touch' for the grid. That is, the nodes could very well be **on** the boundary as they should. "
   ]
  }
 ],
 "metadata": {
  "kernelspec": {
   "display_name": "pyPoseidon",
   "language": "python",
   "name": "pyposeidon"
  },
  "language_info": {
   "codemirror_mode": {
    "name": "ipython",
    "version": 3
   },
   "file_extension": ".py",
   "mimetype": "text/x-python",
   "name": "python",
   "nbconvert_exporter": "python",
   "pygments_lexer": "ipython3",
   "version": "3.8.12"
  }
 },
 "nbformat": 4,
 "nbformat_minor": 5
}
